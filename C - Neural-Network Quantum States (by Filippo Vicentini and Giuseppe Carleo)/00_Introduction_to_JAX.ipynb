{
 "cells": [
  {
   "cell_type": "markdown",
   "id": "2cb283d3-2996-4cae-9253-22df9292c723",
   "metadata": {
    "id": "2cb283d3-2996-4cae-9253-22df9292c723"
   },
   "source": [
    "# Introduction to Jax, Automatic Differentiation, Flax & co\n",
    "\n",
    "Filippo Vicentini\n",
    "\n",
    "In this hands-on you will learn about JAX, a differentiable-programming framework for Python.\n",
    "We will cover the basic principles and usage of JAX and at the end we will build a simple logistic-regression example.\n",
    "\n",
    "The program of this Hands-on is the following:\n",
    "\n",
    "0. Setup\n",
    "1. Introduction to JAX\n",
    "2. Automatic differentiation with JAX\n",
    "3. Linear regression with JAX and Flax"
   ]
  },
  {
   "cell_type": "markdown",
   "id": "176b97f1-2c29-4690-a238-6afc5bb40191",
   "metadata": {
    "id": "176b97f1-2c29-4690-a238-6afc5bb40191"
   },
   "source": [
    "## 0 - Setup\n",
    "\n",
    "To run this notebook you will need:\n",
    " - Python >= 3.7\n",
    " - A notebook interface (Jupyter Lab or Google Colab)\n",
    " - `jax` >= 0.2.17\n",
    " - `flax` >= 0.3\n",
    " - `optax` >= 0.0.8\n",
    " \n",
    "\n",
    "During the class we will be running this notebook with Google Colab, that gives you an easy to use environment in the Cloud with access to a GPU.\n",
    "\n",
    "To install the packages in Colab you need to run the cell below.\n",
    "*If you are running in your own environment, you should not run the cell below!*"
   ]
  },
  {
   "cell_type": "code",
   "execution_count": null,
   "id": "9d8ac809-9148-4316-afb2-4bd884ae3f16",
   "metadata": {
    "id": "9d8ac809-9148-4316-afb2-4bd884ae3f16"
   },
   "outputs": [],
   "source": [
    "!pip install --upgrade jax flax optax tqdm scikit-learn"
   ]
  },
  {
   "cell_type": "markdown",
   "id": "cb319b95-1c4a-4477-ad7e-7ca68a14f349",
   "metadata": {
    "id": "cb319b95-1c4a-4477-ad7e-7ca68a14f349"
   },
   "source": [
    "\n",
    "If you wish to run this notebook or experiment with an environment in your own machine I suggest the following:\n",
    "\n",
    " - Install Python (3.7 or later) with pyenv: https://realpython.com/intro-to-pyenv/, if it is not aleady available.\n",
    " - Set up an environment like this:\n",
    " ```python3\n",
    " # first, navigate to a local folder where you want to store the course contents\n",
    "$ cd your/course/folder\n",
    "# then, create a virtual environment so the packages installed during the school do not conflict with those installed system wide \n",
    "$ virtualenv -p python3 venv\n",
    "# activate the environment (you will need to do this step again when you open a new terminal)\n",
    "$ source venv/bin/activate\n",
    "# install the the necessary Python dependencies\n",
    "$ pip install -U pip wheel\n",
    "$ pip install jax jaxlib netket scikit-learn matplotlib seaborn jupyter jupyterlab\n",
    "# start Jupyter lab\n",
    "$ python3 -m jupyter lab\n",
    "```\n",
    "\n",
    "After the last command, a tab with Jupyter Lab should open in your browser. To verify that your setup works, you can create a new Python notebook and run\n",
    "```\n",
    "import netket\n",
    "```"
   ]
  },
  {
   "cell_type": "markdown",
   "id": "7214ffe3-e1bc-4ff9-8bc6-2d0b67b37ef6",
   "metadata": {
    "id": "7214ffe3-e1bc-4ff9-8bc6-2d0b67b37ef6"
   },
   "source": [
    "## 1. Introduction to JAX\n",
    "\n",
    "In this notebook, I will assume familiarity with basic python constructs. This includes how to define functions, how to work with lists and tuples, printing and importing packages, and writing loops and comprehension. \n",
    "If any of this is not clear, please do ask questions!"
   ]
  },
  {
   "cell_type": "code",
   "execution_count": 3,
   "id": "288bdeb8-305f-4181-8fad-d7d944845be4",
   "metadata": {
    "colab": {
     "base_uri": "https://localhost:8080/"
    },
    "id": "288bdeb8-305f-4181-8fad-d7d944845be4",
    "outputId": "5deff0b3-c937-4714-f8e3-45a25bab9928"
   },
   "outputs": [
    {
     "name": "stdout",
     "output_type": "stream",
     "text": [
      "0.3.4\n"
     ]
    }
   ],
   "source": [
    "# We start by importing jax\n",
    "import jax\n",
    "\n",
    "print(jax.__version__)"
   ]
  },
  {
   "cell_type": "markdown",
   "id": "b9216dfb-cf03-4653-82d9-1ca35225bf45",
   "metadata": {
    "id": "b9216dfb-cf03-4653-82d9-1ca35225bf45"
   },
   "source": [
    "Do check the version! You should have a recent version (>= 0.2.18)"
   ]
  },
  {
   "cell_type": "markdown",
   "id": "31fbf73f-4d3e-4305-9e72-afca467e8a32",
   "metadata": {
    "id": "31fbf73f-4d3e-4305-9e72-afca467e8a32"
   },
   "source": [
    "### 1.1 - The `jax.numpy` API (working with arrays in JAX)"
   ]
  },
  {
   "cell_type": "code",
   "execution_count": 4,
   "id": "cb4bf093-763f-4860-800f-d87abc21937e",
   "metadata": {
    "id": "cb4bf093-763f-4860-800f-d87abc21937e"
   },
   "outputs": [],
   "source": [
    "# import standard numpy\n",
    "import numpy as np\n",
    "\n",
    "# import jax.numpy as jnp\n",
    "import jax.numpy as jnp"
   ]
  },
  {
   "cell_type": "markdown",
   "id": "830ef105-b317-406e-bcda-24e3c86fe3b6",
   "metadata": {
    "id": "830ef105-b317-406e-bcda-24e3c86fe3b6"
   },
   "source": [
    "`jax.numpy` is the NumPy-like API that needs to be imported, and we will also use `jax.random` to generate some data to work on. \n",
    "\n",
    "Let's start by generating some matrices and then perform a matrix multiplication:"
   ]
  },
  {
   "cell_type": "code",
   "execution_count": 5,
   "id": "a4acf8a3-2b89-4a25-8012-0e5283f61d1f",
   "metadata": {
    "colab": {
     "base_uri": "https://localhost:8080/"
    },
    "id": "a4acf8a3-2b89-4a25-8012-0e5283f61d1f",
    "outputId": "564e2578-80e7-40b0-a1a0-b035f1af92cf"
   },
   "outputs": [
    {
     "name": "stderr",
     "output_type": "stream",
     "text": [
      "WARNING:absl:No GPU/TPU found, falling back to CPU. (Set TF_CPP_MIN_LOG_LEVEL=0 and rerun for more info.)\n"
     ]
    }
   ],
   "source": [
    "m = jnp.ones((4,4)) # We're generating one 4 by 4 matrix filled with ones.\n",
    "n = jnp.array([[1.0, 2.0, 3.0, 4.0],\n",
    "               [5.0, 6.0, 7.0, 8.0]]) # An explicit 2 by 4 array"
   ]
  },
  {
   "cell_type": "markdown",
   "id": "c2657d7f-e5c6-4f07-94bb-5f4a18f8ee25",
   "metadata": {
    "id": "c2657d7f-e5c6-4f07-94bb-5f4a18f8ee25"
   },
   "source": [
    "Let's try to print one of those matrices."
   ]
  },
  {
   "cell_type": "code",
   "execution_count": 6,
   "id": "58316c5a-0950-4e7d-a9a1-e9150426f8bd",
   "metadata": {
    "colab": {
     "base_uri": "https://localhost:8080/"
    },
    "id": "58316c5a-0950-4e7d-a9a1-e9150426f8bd",
    "outputId": "99098835-5cc9-49a4-c6c4-3231e34b49a5"
   },
   "outputs": [
    {
     "data": {
      "text/plain": [
       "DeviceArray([[1., 1., 1., 1.],\n",
       "             [1., 1., 1., 1.],\n",
       "             [1., 1., 1., 1.],\n",
       "             [1., 1., 1., 1.]], dtype=float32)"
      ]
     },
     "execution_count": 6,
     "metadata": {},
     "output_type": "execute_result"
    }
   ],
   "source": [
    "m"
   ]
  },
  {
   "cell_type": "code",
   "execution_count": 7,
   "id": "fac8665e-54a1-4a75-84ab-050d813aaedc",
   "metadata": {
    "colab": {
     "base_uri": "https://localhost:8080/"
    },
    "id": "fac8665e-54a1-4a75-84ab-050d813aaedc",
    "outputId": "f86195a4-7107-4e76-b575-162829971bf3"
   },
   "outputs": [
    {
     "name": "stdout",
     "output_type": "stream",
     "text": [
      "shape: (4, 4)\n",
      "size: 16\n",
      "dtype: float32\n"
     ]
    }
   ],
   "source": [
    "# we can also inspect it's shape, size and dtype\n",
    "print(f\"shape: {m.shape}\")\n",
    "print(f\"size: {m.size}\")\n",
    "print(f\"dtype: {m.dtype}\")"
   ]
  },
  {
   "cell_type": "markdown",
   "id": "6439bccd-ed43-480f-b6b3-e5ae3a763db1",
   "metadata": {
    "id": "6439bccd-ed43-480f-b6b3-e5ae3a763db1"
   },
   "source": [
    "Arrays in JAX are represented as `DeviceArray` instances and are agnostic to the place where the array lives (CPU, GPU, or TPU). We \n",
    "\n",
    "We have gotten a warning that no GPU/TPU was found and JAX is falling back to a CPU (unless you're running it in an environment that has a GPU/TPU available), so at the moment our arrays are in standard system meomry.\n",
    "\n",
    "We can multiply matrices like we would do in NumPy. JAX is fully compatible with NumPy, and arrays from both libraries can be mixed in expressions (leading to one of them being converted)."
   ]
  },
  {
   "cell_type": "code",
   "execution_count": 8,
   "id": "5209b98c-1afe-439d-a80e-c21ddddcc3c4",
   "metadata": {
    "colab": {
     "base_uri": "https://localhost:8080/"
    },
    "id": "5209b98c-1afe-439d-a80e-c21ddddcc3c4",
    "outputId": "c7535f60-a7c0-46a1-802a-6128b57df537"
   },
   "outputs": [
    {
     "data": {
      "text/plain": [
       "DeviceArray([[ 1.1679308 ,  1.1679308 ,  1.1679308 ,  1.1679308 ],\n",
       "             [ 0.55503833,  0.55503833,  0.55503833,  0.55503833],\n",
       "             [-0.09371626, -0.09371626, -0.09371626, -0.09371626],\n",
       "             [ 3.269123  ,  3.269123  ,  3.269123  ,  3.269123  ]],            dtype=float32)"
      ]
     },
     "execution_count": 8,
     "metadata": {},
     "output_type": "execute_result"
    }
   ],
   "source": [
    "# create a standard NumPy random (Gaussian) array\n",
    "x = np.random.normal(size=(4, 4))\n",
    "# perform a matrix product:\n",
    "jnp.dot(x, m)"
   ]
  },
  {
   "cell_type": "markdown",
   "id": "9e4e1fa1-f542-47a2-9ecb-247b4a148f82",
   "metadata": {
    "id": "9e4e1fa1-f542-47a2-9ecb-247b4a148f82"
   },
   "source": [
    "Using NumPy arrays directly will result in multiple transfers from CPU to GPU/TPU memory. In general, try to work with objects that are all jax's DeviceArrays by converting everything before-hand using `jnp.asarray`."
   ]
  },
  {
   "cell_type": "markdown",
   "id": "47b15398-6258-4b1a-aecc-c631d9950861",
   "metadata": {
    "id": "47b15398-6258-4b1a-aecc-c631d9950861"
   },
   "source": [
    "### 1.2 - (Im)mutability\n",
    "JAX design is strongly influenced by functional programming style, which is characterized by two main concepts:\n",
    "\n",
    "1. Higher order functions: JAX relies on many functions that have other functions as inputs and outputs. We will see many of them just below.\n",
    "2. Pure functions: A pure function is one that maps its inputs to outputs (deterministically) without modifying the inputs or any global state. (Like a mathematical function.)\n",
    "\n",
    "One practical consequence is that JAX arrays are immutable. This means no in-place operations and sliced assignments (like `x[0:2] = [1, 2]`)."
   ]
  },
  {
   "cell_type": "code",
   "execution_count": null,
   "id": "43d9bc99-f7c0-40ba-bdfb-bf530a55f515",
   "metadata": {
    "colab": {
     "base_uri": "https://localhost:8080/"
    },
    "id": "43d9bc99-f7c0-40ba-bdfb-bf530a55f515",
    "outputId": "979e9770-0097-42db-bb9f-13e977240b2f"
   },
   "outputs": [
    {
     "name": "stdout",
     "output_type": "stream",
     "text": [
      "x: \n",
      " [[1. 2. 3. 4.]\n",
      " [5. 6. 7. 8.]]\n"
     ]
    }
   ],
   "source": [
    "# we construct a matrix\n",
    "x = jnp.array([[1.0, 2.0, 3.0, 4.0],\n",
    "               [5.0, 6.0, 7.0, 8.0]])\n",
    "print(\"x: \\n\", x)"
   ]
  },
  {
   "cell_type": "code",
   "execution_count": 56,
   "id": "G3agN7Z9b-re",
   "metadata": {
    "colab": {
     "base_uri": "https://localhost:8080/",
     "height": 340
    },
    "id": "G3agN7Z9b-re",
    "outputId": "a09ed867-d2b0-4384-f7e2-7a30d19e0bbc"
   },
   "outputs": [
    {
     "ename": "TypeError",
     "evalue": "ignored",
     "output_type": "error",
     "traceback": [
      "\u001b[0;31m---------------------------------------------------------------------------\u001b[0m",
      "\u001b[0;31mTypeError\u001b[0m                                 Traceback (most recent call last)",
      "\u001b[0;32m<ipython-input-56-34f0e6e6e2ba>\u001b[0m in \u001b[0;36m<module>\u001b[0;34m()\u001b[0m\n\u001b[1;32m      1\u001b[0m \u001b[0;31m# try changing an element\u001b[0m\u001b[0;34m\u001b[0m\u001b[0;34m\u001b[0m\u001b[0;34m\u001b[0m\u001b[0m\n\u001b[0;32m----> 2\u001b[0;31m \u001b[0mx\u001b[0m\u001b[0;34m[\u001b[0m\u001b[0;36m0\u001b[0m\u001b[0;34m,\u001b[0m \u001b[0;36m0\u001b[0m\u001b[0;34m]\u001b[0m \u001b[0;34m=\u001b[0m \u001b[0;36m3.0\u001b[0m\u001b[0;34m\u001b[0m\u001b[0;34m\u001b[0m\u001b[0m\n\u001b[0m",
      "\u001b[0;32m/usr/local/lib/python3.7/dist-packages/jax/_src/numpy/lax_numpy.py\u001b[0m in \u001b[0;36m_unimplemented_setitem\u001b[0;34m(self, i, x)\u001b[0m\n\u001b[1;32m   5261\u001b[0m          \u001b[0;34m\"or another .at[] method: \"\u001b[0m\u001b[0;34m\u001b[0m\u001b[0;34m\u001b[0m\u001b[0m\n\u001b[1;32m   5262\u001b[0m          \"https://jax.readthedocs.io/en/latest/_autosummary/jax.numpy.ndarray.at.html\")\n\u001b[0;32m-> 5263\u001b[0;31m   \u001b[0;32mraise\u001b[0m \u001b[0mTypeError\u001b[0m\u001b[0;34m(\u001b[0m\u001b[0mmsg\u001b[0m\u001b[0;34m.\u001b[0m\u001b[0mformat\u001b[0m\u001b[0;34m(\u001b[0m\u001b[0mtype\u001b[0m\u001b[0;34m(\u001b[0m\u001b[0mself\u001b[0m\u001b[0;34m)\u001b[0m\u001b[0;34m)\u001b[0m\u001b[0;34m)\u001b[0m\u001b[0;34m\u001b[0m\u001b[0;34m\u001b[0m\u001b[0m\n\u001b[0m\u001b[1;32m   5264\u001b[0m \u001b[0;34m\u001b[0m\u001b[0m\n\u001b[1;32m   5265\u001b[0m \u001b[0;32mdef\u001b[0m \u001b[0m_operator_round\u001b[0m\u001b[0;34m(\u001b[0m\u001b[0mnumber\u001b[0m\u001b[0;34m,\u001b[0m \u001b[0mndigits\u001b[0m\u001b[0;34m=\u001b[0m\u001b[0;32mNone\u001b[0m\u001b[0;34m)\u001b[0m\u001b[0;34m:\u001b[0m\u001b[0;34m\u001b[0m\u001b[0;34m\u001b[0m\u001b[0m\n",
      "\u001b[0;31mTypeError\u001b[0m: '<class 'jaxlib.xla_extension.DeviceArray'>' object does not support item assignment. JAX arrays are immutable. Instead of ``x[idx] = y``, use ``x = x.at[idx].set(y)`` or another .at[] method: https://jax.readthedocs.io/en/latest/_autosummary/jax.numpy.ndarray.at.html"
     ]
    }
   ],
   "source": [
    "# try changing an element\n",
    "x[0, 0] = 3.0"
   ]
  },
  {
   "cell_type": "code",
   "execution_count": null,
   "id": "71a22962-e7e6-4424-8e44-c8444a880191",
   "metadata": {
    "id": "71a22962-e7e6-4424-8e44-c8444a880191"
   },
   "outputs": [],
   "source": [
    "# this throws an error... let's do it the JAX way:\n",
    "updated = x.at[0,0].set(3.0) # whereas x[0,0] = 3.0 would fail"
   ]
  },
  {
   "cell_type": "code",
   "execution_count": null,
   "id": "eb5dbb89-d039-4a66-a24d-4e5e481e35d0",
   "metadata": {
    "id": "eb5dbb89-d039-4a66-a24d-4e5e481e35d0"
   },
   "outputs": [],
   "source": [
    "print(\"x: \\n\", x) # Note that x didn't change, no in-place mutation.\n",
    "print(\"updated: \\n\", updated)"
   ]
  },
  {
   "cell_type": "markdown",
   "id": "2189988c-fe23-4aae-9923-f308d4fa119d",
   "metadata": {
    "id": "2189988c-fe23-4aae-9923-f308d4fa119d"
   },
   "source": [
    "### 1.3 - Managing randomness\n",
    "In JAX, randomness is managed in a very specific way, and you can read more on JAX's docs [here](https://jax.readthedocs.io/en/latest/notebooks/Common_Gotchas_in_JAX.html#%F0%9F%94%AA-Random-Numbers) (we borrow content from there!). As the JAX team puts it:\n",
    "\n",
    "*JAX implements an explicit PRNG where entropy production and consumption are handled by explicitly passing and iterating a PRNG state. JAX uses a modern Threefry counter-based PRNG that’s splittable. That is, its design allows us to fork the PRNG state into new PRNGs for use with parallel stochastic generation.*\n",
    "\n",
    "In short, you need to explicitly manage the PRNGs (pseudo random number generators) and their states. In JAX's PRNGs, the state is represented as a pair of two unsigned-int32s that is called a key (there is no special meaning to the two unsigned int32s -- it's just a way of representing a uint64)."
   ]
  },
  {
   "cell_type": "code",
   "execution_count": null,
   "id": "8ff8d447-a8d3-49ad-a332-97872238f16a",
   "metadata": {
    "id": "8ff8d447-a8d3-49ad-a332-97872238f16a"
   },
   "outputs": [],
   "source": [
    "#@title\n",
    "# let's import jax.random\n",
    "from jax import random"
   ]
  },
  {
   "cell_type": "code",
   "execution_count": null,
   "id": "926b980a-1269-4eda-9e53-dc3776c99c84",
   "metadata": {
    "id": "926b980a-1269-4eda-9e53-dc3776c99c84"
   },
   "outputs": [],
   "source": [
    "#@title\n",
    "key = random.PRNGKey(12)\n",
    "key"
   ]
  },
  {
   "cell_type": "markdown",
   "id": "c19b327e-fa65-440d-a384-336ce892dcf6",
   "metadata": {
    "id": "c19b327e-fa65-440d-a384-336ce892dcf6"
   },
   "source": [
    "If you use this key multiple times, you'll get the same \"random\" output each time. To generate further entries in the sequence, you'll need to split the PRNG and thus generate a new pair of keys."
   ]
  },
  {
   "cell_type": "code",
   "execution_count": null,
   "id": "98c1d48b-9e2a-4b80-90ea-e9c77aa01764",
   "metadata": {
    "colab": {
     "base_uri": "https://localhost:8080/"
    },
    "id": "98c1d48b-9e2a-4b80-90ea-e9c77aa01764",
    "outputId": "6c50e14e-2600-4a26-9cc1-b1e474cfc9cb"
   },
   "outputs": [
    {
     "name": "stdout",
     "output_type": "stream",
     "text": [
      "Printing the random number using key=[3382499631 3878610767] gives: [-0.48762512]\n",
      "Printing the random number using key=[3382499631 3878610767] gives: [-0.48762512]\n",
      "Printing the random number using key=[3382499631 3878610767] gives: [-0.48762512]\n"
     ]
    }
   ],
   "source": [
    "#@title\n",
    "for i in range(3):\n",
    "    print(f\"Printing the random number using key={key} gives:\", \n",
    "          random.normal(key, shape=(1,)))"
   ]
  },
  {
   "cell_type": "code",
   "execution_count": null,
   "id": "144e5ca4-efaa-4e1d-a744-2242046490da",
   "metadata": {
    "colab": {
     "base_uri": "https://localhost:8080/"
    },
    "id": "144e5ca4-efaa-4e1d-a744-2242046490da",
    "outputId": "d8636960-3863-465d-bf47-43f9c2972e7f"
   },
   "outputs": [
    {
     "name": "stdout",
     "output_type": "stream",
     "text": [
      "old key [3382499631 3878610767] --> normal [-0.48762512]\n",
      "    \\---SPLIT --> new key    [1226047270 2014510724] --> normal [0.9686511]\n",
      "             \\--> new subkey [1194623263 2038155241] --> normal [0.21714099]\n"
     ]
    }
   ],
   "source": [
    "#@title\n",
    "print(\"old key\", key, \"--> normal\", random.normal(key, shape=(1,)))\n",
    "key, subkey = random.split(key)\n",
    "print(\"    \\---SPLIT --> new key   \", key, \"--> normal\", random.normal(key, shape=(1,)) )\n",
    "print(\"             \\--> new subkey\", subkey, \"--> normal\", random.normal(subkey, shape=(1,)) )"
   ]
  },
  {
   "cell_type": "code",
   "execution_count": null,
   "id": "201df6a0-bd55-451d-9afe-439b8f705a90",
   "metadata": {
    "colab": {
     "base_uri": "https://localhost:8080/"
    },
    "id": "201df6a0-bd55-451d-9afe-439b8f705a90",
    "outputId": "8c184d36-8e3c-4933-c66c-2c417d408444"
   },
   "outputs": [
    {
     "name": "stdout",
     "output_type": "stream",
     "text": [
      "Printing the random number using key=[2718843009 1272950319] gives: [-1.2515389]\n",
      "Printing the random number using key=[1278412471 2182328957] gives: [-0.58665055]\n",
      "Printing the random number using key=[4104543539 3483300570] gives: [0.48648307]\n"
     ]
    }
   ],
   "source": [
    "#@title\n",
    "key = random.PRNGKey(0)\n",
    "for i in range(3):\n",
    "    key, key1 = random.split(key)\n",
    "    print(f\"Printing the random number using key={key1} gives:\", \n",
    "          random.normal(key1, shape=(1,)))"
   ]
  },
  {
   "cell_type": "markdown",
   "id": "beaf38c0-711e-4d3e-b45e-35b1fc4aa7a8",
   "metadata": {
    "id": "beaf38c0-711e-4d3e-b45e-35b1fc4aa7a8"
   },
   "source": [
    "While this might seem an annoyance, it's extremely useful because if we simply store this 8 bytes we can always reproduce the state of the random number generator later on. \n",
    "This is extremely important when performing automatic differentiation."
   ]
  },
  {
   "cell_type": "markdown",
   "id": "8d102062-e626-4a0c-8e47-7fec17ea13c7",
   "metadata": {
    "id": "8d102062-e626-4a0c-8e47-7fec17ea13c7"
   },
   "source": [
    "### 1.4 - Using `jax.jit` just-in-tinme compilation to speed-up your code\n",
    "\n",
    "JAX runs transparently on the GPU (or CPU, if you don't have one, and TPU coming soon!). However, in the above example, JAX is dispatching kernels from python to the CPU/GPU one operation at a time.\n",
    "\n",
    "Dispatching has a considerable overhead of several microseconds. Ideally we would like to pay this cost only once, at the beginning of a `kernel`, by leaving Python-land entirely.\n",
    "\n",
    "If we have a sequence of operations, we can use the `@jit` decorator to compile multiple operations together using [XLA](https://www.tensorflow.org/xla). \n",
    "\n",
    "Effectively, what this does is the following:\n",
    " - Your function is executed with a 'tape', where every operation is recorded\n",
    " - Calculations are not performed. Instead, on the tape it is simply written down multiply matrix A times matrix B, add vector C, etc... \n",
    "    - The tape only knows shapes and dtypes of your vectors.\n",
    " - Once the function returns, the 'tape' is converted to code, then optimized, compiled, and your function is replaced by this compiled code.\n"
   ]
  },
  {
   "cell_type": "code",
   "execution_count": null,
   "id": "77efa372-488e-4959-bc82-0bb51eef4556",
   "metadata": {
    "id": "77efa372-488e-4959-bc82-0bb51eef4556"
   },
   "outputs": [],
   "source": [
    "# let's define a sample function\n",
    "def my_fun(x):\n",
    "    div = 1.0 + 1.0\n",
    "    return jnp.dot(x.T,x)/div"
   ]
  },
  {
   "cell_type": "code",
   "execution_count": null,
   "id": "f486f5b2-794b-4cd5-bedc-d1c00fbaf996",
   "metadata": {
    "colab": {
     "base_uri": "https://localhost:8080/"
    },
    "id": "f486f5b2-794b-4cd5-bedc-d1c00fbaf996",
    "outputId": "adfd1e59-e83a-4f58-ae23-02bb317d550e"
   },
   "outputs": [
    {
     "data": {
      "text/plain": [
       "DeviceArray([1., 1., 1., 1., 1., 1., 1., 1., 1., 1.], dtype=float32)"
      ]
     },
     "execution_count": 53,
     "metadata": {},
     "output_type": "execute_result"
    }
   ],
   "source": [
    "# let's define the inputs\n",
    "v = jnp.ones(10)\n",
    "v"
   ]
  },
  {
   "cell_type": "code",
   "execution_count": null,
   "id": "64aeb4a3-3803-4752-b7c1-8379e9522ca4",
   "metadata": {
    "colab": {
     "base_uri": "https://localhost:8080/"
    },
    "id": "64aeb4a3-3803-4752-b7c1-8379e9522ca4",
    "outputId": "3efa73de-1ebd-499d-b9ba-dc44e47fd887"
   },
   "outputs": [
    {
     "data": {
      "text/plain": [
       "DeviceArray(5., dtype=float32)"
      ]
     },
     "execution_count": 54,
     "metadata": {},
     "output_type": "execute_result"
    }
   ],
   "source": [
    "# let's try to execute it\n",
    "my_fun(v)"
   ]
  },
  {
   "cell_type": "code",
   "execution_count": null,
   "id": "34dc811b-e270-4535-ba7d-58b937e3320f",
   "metadata": {
    "colab": {
     "base_uri": "https://localhost:8080/"
    },
    "id": "34dc811b-e270-4535-ba7d-58b937e3320f",
    "outputId": "0a8e5bf9-8be6-42a2-ac3a-bd2c9f9949d7"
   },
   "outputs": [
    {
     "data": {
      "text/plain": [
       "<CompiledFunction of <function my_fun at 0x7f9cba46b710>>"
      ]
     },
     "execution_count": 55,
     "metadata": {},
     "output_type": "execute_result"
    }
   ],
   "source": [
    "#Let's now try to jit it:\n",
    "my_jitted_fun = jax.jit(my_fun)\n",
    "my_jitted_fun"
   ]
  },
  {
   "cell_type": "code",
   "execution_count": null,
   "id": "5c4d5387-ec37-4bd3-93a6-7b62f90f8818",
   "metadata": {
    "colab": {
     "base_uri": "https://localhost:8080/"
    },
    "id": "5c4d5387-ec37-4bd3-93a6-7b62f90f8818",
    "outputId": "b2b17850-a717-4dea-c8d6-c9966bbc183d"
   },
   "outputs": [
    {
     "data": {
      "text/plain": [
       "DeviceArray([[13., 16., 19., 22.],\n",
       "             [16., 20., 24., 28.],\n",
       "             [19., 24., 29., 34.],\n",
       "             [22., 28., 34., 40.]], dtype=float32)"
      ]
     },
     "execution_count": 56,
     "metadata": {},
     "output_type": "execute_result"
    }
   ],
   "source": [
    "my_jitted_fun(x)"
   ]
  },
  {
   "cell_type": "code",
   "execution_count": null,
   "id": "0bfe8d44-d65b-4421-8f82-c1a6f143412c",
   "metadata": {
    "colab": {
     "base_uri": "https://localhost:8080/"
    },
    "id": "0bfe8d44-d65b-4421-8f82-c1a6f143412c",
    "outputId": "afbbe521-1600-410b-e6d7-88aeff54cc39"
   },
   "outputs": [
    {
     "data": {
      "text/plain": [
       "DeviceArray([[13., 16., 19., 22.],\n",
       "             [16., 20., 24., 28.],\n",
       "             [19., 24., 29., 34.],\n",
       "             [22., 28., 34., 40.]], dtype=float32)"
      ]
     },
     "execution_count": 57,
     "metadata": {},
     "output_type": "execute_result"
    }
   ],
   "source": [
    "my_jitted_fun(x)"
   ]
  },
  {
   "cell_type": "code",
   "execution_count": null,
   "id": "c96e6bb7-5096-44af-8016-fcc821872b2e",
   "metadata": {
    "colab": {
     "base_uri": "https://localhost:8080/"
    },
    "id": "c96e6bb7-5096-44af-8016-fcc821872b2e",
    "outputId": "39f50704-23e8-4711-c1e1-bce0ef8b20e2"
   },
   "outputs": [
    {
     "name": "stdout",
     "output_type": "stream",
     "text": [
      "The slowest run took 6065.32 times longer than the fastest. This could mean that an intermediate result is being cached.\n",
      "100000 loops, best of 5: 4.82 µs per loop\n"
     ]
    }
   ],
   "source": [
    "%%timeit \n",
    "my_jitted_fun(v).block_until_ready()"
   ]
  },
  {
   "cell_type": "code",
   "execution_count": null,
   "id": "a1d77c34-1827-49d4-9698-831c216ae86e",
   "metadata": {
    "colab": {
     "base_uri": "https://localhost:8080/"
    },
    "id": "a1d77c34-1827-49d4-9698-831c216ae86e",
    "outputId": "b2571b77-a3df-47d7-ab17-802a4146a3d2"
   },
   "outputs": [
    {
     "name": "stdout",
     "output_type": "stream",
     "text": [
      "The slowest run took 28.08 times longer than the fastest. This could mean that an intermediate result is being cached.\n",
      "10000 loops, best of 5: 23.5 µs per loop\n"
     ]
    }
   ],
   "source": [
    "%%timeit \n",
    "my_fun(v).block_until_ready()"
   ]
  },
  {
   "cell_type": "markdown",
   "id": "f809788e-b297-4cc3-914a-3d9720648261",
   "metadata": {
    "id": "f809788e-b297-4cc3-914a-3d9720648261"
   },
   "source": [
    "We can also inspect the tape:"
   ]
  },
  {
   "cell_type": "code",
   "execution_count": null,
   "id": "a2d25ea9-ebc4-40fa-a745-0f2061c25d5d",
   "metadata": {
    "colab": {
     "base_uri": "https://localhost:8080/"
    },
    "id": "a2d25ea9-ebc4-40fa-a745-0f2061c25d5d",
    "outputId": "d3d936e5-8ae1-4b5d-9365-96cff17e9158"
   },
   "outputs": [
    {
     "data": {
      "text/plain": [
       "{ lambda ; a:f32[10]. let\n",
       "    b:f32[] = dot_general[\n",
       "      dimension_numbers=(((0,), (0,)), ((), ()))\n",
       "      precision=None\n",
       "      preferred_element_type=None\n",
       "    ] a a\n",
       "    c:f32[] = div b 2.0\n",
       "  in (c,) }"
      ]
     },
     "execution_count": 60,
     "metadata": {},
     "output_type": "execute_result"
    }
   ],
   "source": [
    "jax.make_jaxpr(my_fun)(v)"
   ]
  },
  {
   "cell_type": "markdown",
   "id": "4ccfab40-cc41-4095-9aaa-8795b075e9a3",
   "metadata": {
    "id": "4ccfab40-cc41-4095-9aaa-8795b075e9a3"
   },
   "source": [
    "Remember, the original code was\n",
    "```python\n",
    "def my_fun(x):\n",
    "    div = 1.0 + 1.0\n",
    "    return jnp.dot(x.T,x)/div\n",
    "```\n",
    "\n",
    "But in the Intermediate Representation (IR) or JaxPR (Jax Program Representation) we see no mention of `div = 1+1`.\n",
    "That is because Jax only detects operations on Jax types, and ignores the others."
   ]
  },
  {
   "cell_type": "markdown",
   "id": "85effda8-c2ed-4bae-87f9-e570c6fc98e2",
   "metadata": {
    "id": "85effda8-c2ed-4bae-87f9-e570c6fc98e2"
   },
   "source": [
    "## 1.4.1 How `jax.jit` works internally\n",
    "\n",
    "JIT, as well as other jax program transformations like `grad` which we will see later, works internally by executing your code with some _mock_ objects: instead of doing operations with arrays containing data, they execute it using some `Tracers`, empty boxes that contain some static data like the array shape and type but don't contain any numerical data.\n",
    "\n",
    "This is used in order to generate a static representation of the program, which then gets executed very fast with the real data *after* the compilation is terminated."
   ]
  },
  {
   "cell_type": "code",
   "execution_count": null,
   "id": "fd92550c-f7fc-4cc9-bbba-05dd9f660690",
   "metadata": {
    "id": "fd92550c-f7fc-4cc9-bbba-05dd9f660690"
   },
   "outputs": [],
   "source": [
    "def my_fun(x):\n",
    "    print(f\"input has shape: {x.shape} and dtype {x.dtype}\")\n",
    "    print(f\"x={x}\")\n",
    "    print(f\"x[1]={x[1]}\")\n",
    "    div = 1+1\n",
    "    print(f\"div={div}\")\n",
    "    y = jnp.dot(x.T,x)/div\n",
    "    print(f\"y={y}\")\n",
    "    return y"
   ]
  },
  {
   "cell_type": "markdown",
   "id": "2443c997-a21e-4560-a178-a1f693e1b7c5",
   "metadata": {
    "id": "2443c997-a21e-4560-a178-a1f693e1b7c5"
   },
   "source": [
    "If we execute the non-jitted function, you'll see those print statements printing the arrays:"
   ]
  },
  {
   "cell_type": "code",
   "execution_count": null,
   "id": "fbef300e-0e65-4307-9602-dec78640bfec",
   "metadata": {
    "colab": {
     "base_uri": "https://localhost:8080/"
    },
    "id": "fbef300e-0e65-4307-9602-dec78640bfec",
    "outputId": "f628ecf6-48d0-47f4-9c25-977dc6139d99"
   },
   "outputs": [
    {
     "name": "stdout",
     "output_type": "stream",
     "text": [
      "v=[1. 1. 1. 1. 1. 1. 1. 1. 1. 1.]\n",
      "-------------------\n",
      "input has shape: (10,) and dtype float32\n",
      "x=[1. 1. 1. 1. 1. 1. 1. 1. 1. 1.]\n",
      "x[1]=1.0\n",
      "div=2\n",
      "y=5.0\n",
      "-------------------\n",
      "res=5.0\n"
     ]
    }
   ],
   "source": [
    "v = jnp.ones(10)\n",
    "print(f\"v={v}\")\n",
    "print(\"-------------------\")\n",
    "res = my_fun(v)\n",
    "print(\"-------------------\")\n",
    "print(f\"res={res}\")"
   ]
  },
  {
   "cell_type": "markdown",
   "id": "f1ae148c-d3c8-494b-9a0d-81bcc6a15276",
   "metadata": {
    "id": "f1ae148c-d3c8-494b-9a0d-81bcc6a15276"
   },
   "source": [
    "But if we execute a function under `jax.jit` or any other jax transformation, you will see that the arrays are replaced with those empty Tracer that behave like arrays, but they are not."
   ]
  },
  {
   "cell_type": "code",
   "execution_count": null,
   "id": "df80e6ee-ebba-4cda-9e96-ef147237938b",
   "metadata": {
    "colab": {
     "base_uri": "https://localhost:8080/"
    },
    "id": "df80e6ee-ebba-4cda-9e96-ef147237938b",
    "outputId": "a80ab5fa-25dd-4cc6-f225-8b4d1d8cf053"
   },
   "outputs": [
    {
     "name": "stdout",
     "output_type": "stream",
     "text": [
      "v=[1. 1. 1. 1. 1. 1. 1. 1. 1. 1.]\n",
      "--------- First Run ----------\n",
      "input has shape: (10,) and dtype float32\n",
      "x=Traced<ShapedArray(float32[10])>with<DynamicJaxprTrace(level=0/1)>\n",
      "x[1]=Traced<ShapedArray(float32[])>with<DynamicJaxprTrace(level=0/1)>\n",
      "div=2\n",
      "y=Traced<ShapedArray(float32[])>with<DynamicJaxprTrace(level=0/1)>\n",
      "----------End of First Run ---------\n",
      "res=5.0\n"
     ]
    }
   ],
   "source": [
    "jfun = jax.jit(my_fun)\n",
    "\n",
    "v = jnp.ones(10)\n",
    "print(f\"v={v}\")\n",
    "print(\"--------- First Run ----------\")\n",
    "res = jfun(v)\n",
    "print(\"----------End of First Run ---------\")\n",
    "print(f\"res={res}\")"
   ]
  },
  {
   "cell_type": "code",
   "execution_count": null,
   "id": "dbd1d704-02a8-4d89-b170-25bf43a36687",
   "metadata": {
    "colab": {
     "base_uri": "https://localhost:8080/"
    },
    "id": "dbd1d704-02a8-4d89-b170-25bf43a36687",
    "outputId": "132c019c-23ee-4950-b6f8-4d4f9fc45682"
   },
   "outputs": [
    {
     "name": "stdout",
     "output_type": "stream",
     "text": [
      "--------- Second Run ----------\n",
      "----------Second Run ---------\n",
      "res=5.0\n"
     ]
    }
   ],
   "source": [
    "print(\"--------- Second Run ----------\")\n",
    "res = jfun(v)\n",
    "print(\"----------Second Run ---------\")\n",
    "print(f\"res={res}\")"
   ]
  },
  {
   "cell_type": "markdown",
   "id": "aed4df78-195e-4cc8-af16-ed02a2af4421",
   "metadata": {
    "id": "aed4df78-195e-4cc8-af16-ed02a2af4421"
   },
   "source": [
    "### 1.4.2 Control Flow\n",
    "\n",
    "This 'abstract evaluation' has consequences when we try to write functions with control flow: we can use in if/else statements quantities that are _statically known_ during the _abstract evaluation_ such as array sizes."
   ]
  },
  {
   "cell_type": "code",
   "execution_count": null,
   "id": "22c73a14-2d02-44b4-a3e8-3792e5a5139b",
   "metadata": {
    "id": "22c73a14-2d02-44b4-a3e8-3792e5a5139b"
   },
   "outputs": [],
   "source": [
    "def my_fun_check(x):\n",
    "    print(f\"executing with {x.shape}\")\n",
    "    if x.size > 5:\n",
    "        return x**2\n",
    "    else:\n",
    "        return x**3"
   ]
  },
  {
   "cell_type": "code",
   "execution_count": null,
   "id": "6d7fdd7b-627f-4f1b-b3f7-8485c61cdbd1",
   "metadata": {
    "colab": {
     "base_uri": "https://localhost:8080/"
    },
    "id": "6d7fdd7b-627f-4f1b-b3f7-8485c61cdbd1",
    "outputId": "850df41d-f25e-438a-cbd8-957ca7d884a8"
   },
   "outputs": [
    {
     "name": "stdout",
     "output_type": "stream",
     "text": [
      "executing with (3,)\n"
     ]
    },
    {
     "data": {
      "text/plain": [
       "{ lambda ; a:f32[3]. let b:f32[3] = integer_pow[y=3] a in (b,) }"
      ]
     },
     "execution_count": 70,
     "metadata": {},
     "output_type": "execute_result"
    }
   ],
   "source": [
    "jax.make_jaxpr(my_fun_check)(jnp.ones(3))"
   ]
  },
  {
   "cell_type": "code",
   "execution_count": null,
   "id": "8ca5d09f-0637-4f86-89c4-942903f8fe5d",
   "metadata": {
    "colab": {
     "base_uri": "https://localhost:8080/"
    },
    "id": "8ca5d09f-0637-4f86-89c4-942903f8fe5d",
    "outputId": "6f150b54-a54b-4bba-b846-f4f009d6728e"
   },
   "outputs": [
    {
     "name": "stdout",
     "output_type": "stream",
     "text": [
      "executing with (8,)\n"
     ]
    },
    {
     "data": {
      "text/plain": [
       "{ lambda ; a:f32[8]. let b:f32[8] = integer_pow[y=2] a in (b,) }"
      ]
     },
     "execution_count": 72,
     "metadata": {},
     "output_type": "execute_result"
    }
   ],
   "source": [
    "jax.make_jaxpr(my_fun_check)(jnp.ones(8))"
   ]
  },
  {
   "cell_type": "markdown",
   "id": "6fc2cb66-43e8-4ece-9a05-05e84c3e3e27",
   "metadata": {
    "id": "6fc2cb66-43e8-4ece-9a05-05e84c3e3e27"
   },
   "source": [
    "But we cannot do use in if/else checks depending on the *content* of the arrays.\n",
    "Consider for example the function `relu`"
   ]
  },
  {
   "cell_type": "code",
   "execution_count": null,
   "id": "f29169c2-00aa-4d58-87c5-f844408ce73d",
   "metadata": {
    "id": "f29169c2-00aa-4d58-87c5-f844408ce73d"
   },
   "outputs": [],
   "source": [
    "def my_relu(x):\n",
    "    cond = x>0\n",
    "    print(f\"x={x}\")\n",
    "    print(f\"cond={cond}\")\n",
    "    if cond:\n",
    "        return x\n",
    "    else:\n",
    "        return 0.0"
   ]
  },
  {
   "cell_type": "markdown",
   "id": "40f1d0c3-c61e-4b74-a092-49ce66a8139b",
   "metadata": {
    "id": "40f1d0c3-c61e-4b74-a092-49ce66a8139b"
   },
   "source": [
    "If we execute it normally with Python everything is a standard *concrete* type:"
   ]
  },
  {
   "cell_type": "code",
   "execution_count": null,
   "id": "0c410525-d3bf-4ea5-a9fa-5a0524376d86",
   "metadata": {
    "colab": {
     "base_uri": "https://localhost:8080/"
    },
    "id": "0c410525-d3bf-4ea5-a9fa-5a0524376d86",
    "outputId": "f78192cc-5313-4dd9-e156-7934aeb8f395"
   },
   "outputs": [
    {
     "name": "stdout",
     "output_type": "stream",
     "text": [
      "x=3.0\n",
      "cond=True\n"
     ]
    },
    {
     "data": {
      "text/plain": [
       "3.0"
      ]
     },
     "execution_count": 74,
     "metadata": {},
     "output_type": "execute_result"
    }
   ],
   "source": [
    "my_relu(3.0)"
   ]
  },
  {
   "cell_type": "markdown",
   "id": "c41b13dd-67a9-4dc1-a046-80c01b8a86c5",
   "metadata": {
    "id": "c41b13dd-67a9-4dc1-a046-80c01b8a86c5"
   },
   "source": [
    "But if we execute it under a Jax.jit, x will be an empty cotainer so it's impossible to know if $x>0$ or not until the program is actually executed with some data."
   ]
  },
  {
   "cell_type": "code",
   "execution_count": null,
   "id": "951ac462-fa12-4f6b-93ac-1f752ba574c0",
   "metadata": {
    "colab": {
     "base_uri": "https://localhost:8080/",
     "height": 659
    },
    "id": "951ac462-fa12-4f6b-93ac-1f752ba574c0",
    "outputId": "87b21872-7071-4ce6-f488-1f055bc08766"
   },
   "outputs": [
    {
     "name": "stdout",
     "output_type": "stream",
     "text": [
      "x=Traced<ShapedArray(int32[], weak_type=True)>with<DynamicJaxprTrace(level=1/0)>\n",
      "cond=Traced<ShapedArray(bool[], weak_type=True)>with<DynamicJaxprTrace(level=1/0)>\n"
     ]
    },
    {
     "ename": "ConcretizationTypeError",
     "evalue": "ignored",
     "output_type": "error",
     "traceback": [
      "\u001b[0;31m---------------------------------------------------------------------------\u001b[0m",
      "\u001b[0;31mUnfilteredStackTrace\u001b[0m                      Traceback (most recent call last)",
      "\u001b[0;32m<ipython-input-75-0e27c48bff0c>\u001b[0m in \u001b[0;36m<module>\u001b[0;34m()\u001b[0m\n\u001b[0;32m----> 1\u001b[0;31m \u001b[0mjax\u001b[0m\u001b[0;34m.\u001b[0m\u001b[0mmake_jaxpr\u001b[0m\u001b[0;34m(\u001b[0m\u001b[0mmy_relu\u001b[0m\u001b[0;34m)\u001b[0m\u001b[0;34m(\u001b[0m\u001b[0;36m3\u001b[0m\u001b[0;34m)\u001b[0m\u001b[0;34m\u001b[0m\u001b[0;34m\u001b[0m\u001b[0m\n\u001b[0m",
      "\u001b[0;32m/usr/local/lib/python3.7/dist-packages/jax/_src/traceback_util.py\u001b[0m in \u001b[0;36mreraise_with_filtered_traceback\u001b[0;34m(*args, **kwargs)\u001b[0m\n\u001b[1;32m    161\u001b[0m     \u001b[0;32mtry\u001b[0m\u001b[0;34m:\u001b[0m\u001b[0;34m\u001b[0m\u001b[0;34m\u001b[0m\u001b[0m\n\u001b[0;32m--> 162\u001b[0;31m       \u001b[0;32mreturn\u001b[0m \u001b[0mfun\u001b[0m\u001b[0;34m(\u001b[0m\u001b[0;34m*\u001b[0m\u001b[0margs\u001b[0m\u001b[0;34m,\u001b[0m \u001b[0;34m**\u001b[0m\u001b[0mkwargs\u001b[0m\u001b[0;34m)\u001b[0m\u001b[0;34m\u001b[0m\u001b[0;34m\u001b[0m\u001b[0m\n\u001b[0m\u001b[1;32m    163\u001b[0m     \u001b[0;32mexcept\u001b[0m \u001b[0mException\u001b[0m \u001b[0;32mas\u001b[0m \u001b[0me\u001b[0m\u001b[0;34m:\u001b[0m\u001b[0;34m\u001b[0m\u001b[0;34m\u001b[0m\u001b[0m\n",
      "\u001b[0;32m/usr/local/lib/python3.7/dist-packages/jax/_src/api.py\u001b[0m in \u001b[0;36mmake_jaxpr_f\u001b[0;34m(*args, **kwargs)\u001b[0m\n\u001b[1;32m   2614\u001b[0m       jaxpr, out_avals, consts = pe.trace_to_jaxpr_dynamic(\n\u001b[0;32m-> 2615\u001b[0;31m           f, in_avals, keep_inputs=keep_inputs)\n\u001b[0m\u001b[1;32m   2616\u001b[0m     \u001b[0mclosed_jaxpr\u001b[0m \u001b[0;34m=\u001b[0m \u001b[0mcore\u001b[0m\u001b[0;34m.\u001b[0m\u001b[0mClosedJaxpr\u001b[0m\u001b[0;34m(\u001b[0m\u001b[0mjaxpr\u001b[0m\u001b[0;34m,\u001b[0m \u001b[0mconsts\u001b[0m\u001b[0;34m)\u001b[0m\u001b[0;34m\u001b[0m\u001b[0;34m\u001b[0m\u001b[0m\n",
      "\u001b[0;32m/usr/local/lib/python3.7/dist-packages/jax/_src/profiler.py\u001b[0m in \u001b[0;36mwrapper\u001b[0;34m(*args, **kwargs)\u001b[0m\n\u001b[1;32m    205\u001b[0m     \u001b[0;32mwith\u001b[0m \u001b[0mTraceAnnotation\u001b[0m\u001b[0;34m(\u001b[0m\u001b[0mname\u001b[0m\u001b[0;34m,\u001b[0m \u001b[0;34m**\u001b[0m\u001b[0mdecorator_kwargs\u001b[0m\u001b[0;34m)\u001b[0m\u001b[0;34m:\u001b[0m\u001b[0;34m\u001b[0m\u001b[0;34m\u001b[0m\u001b[0m\n\u001b[0;32m--> 206\u001b[0;31m       \u001b[0;32mreturn\u001b[0m \u001b[0mfunc\u001b[0m\u001b[0;34m(\u001b[0m\u001b[0;34m*\u001b[0m\u001b[0margs\u001b[0m\u001b[0;34m,\u001b[0m \u001b[0;34m**\u001b[0m\u001b[0mkwargs\u001b[0m\u001b[0;34m)\u001b[0m\u001b[0;34m\u001b[0m\u001b[0;34m\u001b[0m\u001b[0m\n\u001b[0m\u001b[1;32m    207\u001b[0m     \u001b[0;32mreturn\u001b[0m \u001b[0mwrapper\u001b[0m\u001b[0;34m\u001b[0m\u001b[0;34m\u001b[0m\u001b[0m\n",
      "\u001b[0;32m/usr/local/lib/python3.7/dist-packages/jax/interpreters/partial_eval.py\u001b[0m in \u001b[0;36mtrace_to_jaxpr_dynamic\u001b[0;34m(fun, in_avals, debug_info, keep_inputs)\u001b[0m\n\u001b[1;32m   1738\u001b[0m     jaxpr, out_avals, consts = trace_to_subjaxpr_dynamic(\n\u001b[0;32m-> 1739\u001b[0;31m       fun, main, in_avals, keep_inputs=keep_inputs)\n\u001b[0m\u001b[1;32m   1740\u001b[0m     \u001b[0;32mdel\u001b[0m \u001b[0mmain\u001b[0m\u001b[0;34m,\u001b[0m \u001b[0mfun\u001b[0m\u001b[0;34m\u001b[0m\u001b[0;34m\u001b[0m\u001b[0m\n",
      "\u001b[0;32m/usr/local/lib/python3.7/dist-packages/jax/interpreters/partial_eval.py\u001b[0m in \u001b[0;36mtrace_to_subjaxpr_dynamic\u001b[0;34m(fun, main, in_avals, keep_inputs)\u001b[0m\n\u001b[1;32m   1774\u001b[0m     \u001b[0min_tracers_\u001b[0m \u001b[0;34m=\u001b[0m \u001b[0;34m[\u001b[0m\u001b[0mt\u001b[0m \u001b[0;32mfor\u001b[0m \u001b[0mt\u001b[0m\u001b[0;34m,\u001b[0m \u001b[0mkeep\u001b[0m \u001b[0;32min\u001b[0m \u001b[0mzip\u001b[0m\u001b[0;34m(\u001b[0m\u001b[0min_tracers\u001b[0m\u001b[0;34m,\u001b[0m \u001b[0mkeep_inputs\u001b[0m\u001b[0;34m)\u001b[0m \u001b[0;32mif\u001b[0m \u001b[0mkeep\u001b[0m\u001b[0;34m]\u001b[0m\u001b[0;34m\u001b[0m\u001b[0;34m\u001b[0m\u001b[0m\n\u001b[0;32m-> 1775\u001b[0;31m     \u001b[0mans\u001b[0m \u001b[0;34m=\u001b[0m \u001b[0mfun\u001b[0m\u001b[0;34m.\u001b[0m\u001b[0mcall_wrapped\u001b[0m\u001b[0;34m(\u001b[0m\u001b[0;34m*\u001b[0m\u001b[0min_tracers_\u001b[0m\u001b[0;34m)\u001b[0m\u001b[0;34m\u001b[0m\u001b[0;34m\u001b[0m\u001b[0m\n\u001b[0m\u001b[1;32m   1776\u001b[0m     \u001b[0mout_tracers\u001b[0m \u001b[0;34m=\u001b[0m \u001b[0mmap\u001b[0m\u001b[0;34m(\u001b[0m\u001b[0mtrace\u001b[0m\u001b[0;34m.\u001b[0m\u001b[0mfull_raise\u001b[0m\u001b[0;34m,\u001b[0m \u001b[0mans\u001b[0m\u001b[0;34m)\u001b[0m\u001b[0;34m\u001b[0m\u001b[0;34m\u001b[0m\u001b[0m\n",
      "\u001b[0;32m/usr/local/lib/python3.7/dist-packages/jax/linear_util.py\u001b[0m in \u001b[0;36mcall_wrapped\u001b[0;34m(self, *args, **kwargs)\u001b[0m\n\u001b[1;32m    165\u001b[0m     \u001b[0;32mtry\u001b[0m\u001b[0;34m:\u001b[0m\u001b[0;34m\u001b[0m\u001b[0;34m\u001b[0m\u001b[0m\n\u001b[0;32m--> 166\u001b[0;31m       \u001b[0mans\u001b[0m \u001b[0;34m=\u001b[0m \u001b[0mself\u001b[0m\u001b[0;34m.\u001b[0m\u001b[0mf\u001b[0m\u001b[0;34m(\u001b[0m\u001b[0;34m*\u001b[0m\u001b[0margs\u001b[0m\u001b[0;34m,\u001b[0m \u001b[0;34m**\u001b[0m\u001b[0mdict\u001b[0m\u001b[0;34m(\u001b[0m\u001b[0mself\u001b[0m\u001b[0;34m.\u001b[0m\u001b[0mparams\u001b[0m\u001b[0;34m,\u001b[0m \u001b[0;34m**\u001b[0m\u001b[0mkwargs\u001b[0m\u001b[0;34m)\u001b[0m\u001b[0;34m)\u001b[0m\u001b[0;34m\u001b[0m\u001b[0;34m\u001b[0m\u001b[0m\n\u001b[0m\u001b[1;32m    167\u001b[0m     \u001b[0;32mexcept\u001b[0m\u001b[0;34m:\u001b[0m\u001b[0;34m\u001b[0m\u001b[0;34m\u001b[0m\u001b[0m\n",
      "\u001b[0;32m<ipython-input-73-a8392df8e3c6>\u001b[0m in \u001b[0;36mmy_relu\u001b[0;34m(x)\u001b[0m\n\u001b[1;32m      4\u001b[0m     \u001b[0mprint\u001b[0m\u001b[0;34m(\u001b[0m\u001b[0;34mf\"cond={cond}\"\u001b[0m\u001b[0;34m)\u001b[0m\u001b[0;34m\u001b[0m\u001b[0;34m\u001b[0m\u001b[0m\n\u001b[0;32m----> 5\u001b[0;31m     \u001b[0;32mif\u001b[0m \u001b[0mcond\u001b[0m\u001b[0;34m:\u001b[0m\u001b[0;34m\u001b[0m\u001b[0;34m\u001b[0m\u001b[0m\n\u001b[0m\u001b[1;32m      6\u001b[0m         \u001b[0;32mreturn\u001b[0m \u001b[0mx\u001b[0m\u001b[0;34m\u001b[0m\u001b[0;34m\u001b[0m\u001b[0m\n",
      "\u001b[0;32m/usr/local/lib/python3.7/dist-packages/jax/core.py\u001b[0m in \u001b[0;36m__bool__\u001b[0;34m(self)\u001b[0m\n\u001b[1;32m    535\u001b[0m   \u001b[0;32mdef\u001b[0m \u001b[0m__nonzero__\u001b[0m\u001b[0;34m(\u001b[0m\u001b[0mself\u001b[0m\u001b[0;34m)\u001b[0m\u001b[0;34m:\u001b[0m \u001b[0;32mreturn\u001b[0m \u001b[0mself\u001b[0m\u001b[0;34m.\u001b[0m\u001b[0maval\u001b[0m\u001b[0;34m.\u001b[0m\u001b[0m_nonzero\u001b[0m\u001b[0;34m(\u001b[0m\u001b[0mself\u001b[0m\u001b[0;34m)\u001b[0m\u001b[0;34m\u001b[0m\u001b[0;34m\u001b[0m\u001b[0m\n\u001b[0;32m--> 536\u001b[0;31m   \u001b[0;32mdef\u001b[0m \u001b[0m__bool__\u001b[0m\u001b[0;34m(\u001b[0m\u001b[0mself\u001b[0m\u001b[0;34m)\u001b[0m\u001b[0;34m:\u001b[0m \u001b[0;32mreturn\u001b[0m \u001b[0mself\u001b[0m\u001b[0;34m.\u001b[0m\u001b[0maval\u001b[0m\u001b[0;34m.\u001b[0m\u001b[0m_bool\u001b[0m\u001b[0;34m(\u001b[0m\u001b[0mself\u001b[0m\u001b[0;34m)\u001b[0m\u001b[0;34m\u001b[0m\u001b[0;34m\u001b[0m\u001b[0m\n\u001b[0m\u001b[1;32m    537\u001b[0m   \u001b[0;32mdef\u001b[0m \u001b[0m__int__\u001b[0m\u001b[0;34m(\u001b[0m\u001b[0mself\u001b[0m\u001b[0;34m)\u001b[0m\u001b[0;34m:\u001b[0m \u001b[0;32mreturn\u001b[0m \u001b[0mself\u001b[0m\u001b[0;34m.\u001b[0m\u001b[0maval\u001b[0m\u001b[0;34m.\u001b[0m\u001b[0m_int\u001b[0m\u001b[0;34m(\u001b[0m\u001b[0mself\u001b[0m\u001b[0;34m)\u001b[0m\u001b[0;34m\u001b[0m\u001b[0;34m\u001b[0m\u001b[0m\n",
      "\u001b[0;32m/usr/local/lib/python3.7/dist-packages/jax/core.py\u001b[0m in \u001b[0;36merror\u001b[0;34m(self, arg)\u001b[0m\n\u001b[1;32m   1064\u001b[0m   \u001b[0;32mdef\u001b[0m \u001b[0merror\u001b[0m\u001b[0;34m(\u001b[0m\u001b[0mself\u001b[0m\u001b[0;34m,\u001b[0m \u001b[0marg\u001b[0m\u001b[0;34m)\u001b[0m\u001b[0;34m:\u001b[0m\u001b[0;34m\u001b[0m\u001b[0;34m\u001b[0m\u001b[0m\n\u001b[0;32m-> 1065\u001b[0;31m     \u001b[0;32mraise\u001b[0m \u001b[0mConcretizationTypeError\u001b[0m\u001b[0;34m(\u001b[0m\u001b[0marg\u001b[0m\u001b[0;34m,\u001b[0m \u001b[0mfname_context\u001b[0m\u001b[0;34m)\u001b[0m\u001b[0;34m\u001b[0m\u001b[0;34m\u001b[0m\u001b[0m\n\u001b[0m\u001b[1;32m   1066\u001b[0m   \u001b[0;32mreturn\u001b[0m \u001b[0merror\u001b[0m\u001b[0;34m\u001b[0m\u001b[0;34m\u001b[0m\u001b[0m\n",
      "\u001b[0;31mUnfilteredStackTrace\u001b[0m: jax._src.errors.ConcretizationTypeError: Abstract tracer value encountered where concrete value is expected: Traced<ShapedArray(bool[], weak_type=True)>with<DynamicJaxprTrace(level=1/0)>\nThe problem arose with the `bool` function. \n\nSee https://jax.readthedocs.io/en/latest/errors.html#jax.errors.ConcretizationTypeError\n\nThe stack trace below excludes JAX-internal frames.\nThe preceding is the original exception that occurred, unmodified.\n\n--------------------",
      "\nThe above exception was the direct cause of the following exception:\n",
      "\u001b[0;31mConcretizationTypeError\u001b[0m                   Traceback (most recent call last)",
      "\u001b[0;32m<ipython-input-75-0e27c48bff0c>\u001b[0m in \u001b[0;36m<module>\u001b[0;34m()\u001b[0m\n\u001b[0;32m----> 1\u001b[0;31m \u001b[0mjax\u001b[0m\u001b[0;34m.\u001b[0m\u001b[0mmake_jaxpr\u001b[0m\u001b[0;34m(\u001b[0m\u001b[0mmy_relu\u001b[0m\u001b[0;34m)\u001b[0m\u001b[0;34m(\u001b[0m\u001b[0;36m3\u001b[0m\u001b[0;34m)\u001b[0m\u001b[0;34m\u001b[0m\u001b[0;34m\u001b[0m\u001b[0m\n\u001b[0m",
      "\u001b[0;32m<ipython-input-73-a8392df8e3c6>\u001b[0m in \u001b[0;36mmy_relu\u001b[0;34m(x)\u001b[0m\n\u001b[1;32m      3\u001b[0m     \u001b[0mprint\u001b[0m\u001b[0;34m(\u001b[0m\u001b[0;34mf\"x={x}\"\u001b[0m\u001b[0;34m)\u001b[0m\u001b[0;34m\u001b[0m\u001b[0;34m\u001b[0m\u001b[0m\n\u001b[1;32m      4\u001b[0m     \u001b[0mprint\u001b[0m\u001b[0;34m(\u001b[0m\u001b[0;34mf\"cond={cond}\"\u001b[0m\u001b[0;34m)\u001b[0m\u001b[0;34m\u001b[0m\u001b[0;34m\u001b[0m\u001b[0m\n\u001b[0;32m----> 5\u001b[0;31m     \u001b[0;32mif\u001b[0m \u001b[0mcond\u001b[0m\u001b[0;34m:\u001b[0m\u001b[0;34m\u001b[0m\u001b[0;34m\u001b[0m\u001b[0m\n\u001b[0m\u001b[1;32m      6\u001b[0m         \u001b[0;32mreturn\u001b[0m \u001b[0mx\u001b[0m\u001b[0;34m\u001b[0m\u001b[0;34m\u001b[0m\u001b[0m\n\u001b[1;32m      7\u001b[0m     \u001b[0;32melse\u001b[0m\u001b[0;34m:\u001b[0m\u001b[0;34m\u001b[0m\u001b[0;34m\u001b[0m\u001b[0m\n",
      "\u001b[0;31mConcretizationTypeError\u001b[0m: Abstract tracer value encountered where concrete value is expected: Traced<ShapedArray(bool[], weak_type=True)>with<DynamicJaxprTrace(level=1/0)>\nThe problem arose with the `bool` function. \n\nSee https://jax.readthedocs.io/en/latest/errors.html#jax.errors.ConcretizationTypeError"
     ]
    }
   ],
   "source": [
    "jax.make_jaxpr(my_relu)(3)"
   ]
  },
  {
   "cell_type": "markdown",
   "id": "70f376f8-2186-409f-9cdb-c4f090e3c402",
   "metadata": {
    "id": "70f376f8-2186-409f-9cdb-c4f090e3c402"
   },
   "source": [
    "In this case we have to use some jax-built-in function that is recognized by the tracer, so that the coditional expression is recorded:"
   ]
  },
  {
   "cell_type": "code",
   "execution_count": null,
   "id": "6b9d41cf-6068-44b1-bf1b-9508f3108c28",
   "metadata": {
    "id": "6b9d41cf-6068-44b1-bf1b-9508f3108c28"
   },
   "outputs": [],
   "source": [
    "def my_good_relu(x):\n",
    "    print(f\"x={x}\")\n",
    "    cond = x>0\n",
    "    print(f\"cond={cond}\")\n",
    "    res = jnp.where(x>0, x, 0)\n",
    "    print(f\"res={res}\")\n",
    "    return res"
   ]
  },
  {
   "cell_type": "code",
   "execution_count": null,
   "id": "62060280-7ab7-4859-853e-77ee1c96c4b8",
   "metadata": {
    "colab": {
     "base_uri": "https://localhost:8080/"
    },
    "id": "62060280-7ab7-4859-853e-77ee1c96c4b8",
    "outputId": "f94b84ff-f95e-4da9-bac9-0ac3bd3809d7"
   },
   "outputs": [
    {
     "name": "stdout",
     "output_type": "stream",
     "text": [
      "x=Traced<ShapedArray(int32[], weak_type=True)>with<DynamicJaxprTrace(level=1/0)>\n",
      "cond=Traced<ShapedArray(bool[], weak_type=True)>with<DynamicJaxprTrace(level=1/0)>\n",
      "res=Traced<ShapedArray(int32[], weak_type=True)>with<DynamicJaxprTrace(level=1/0)>\n"
     ]
    },
    {
     "data": {
      "text/plain": [
       "{ lambda ; a:i32[]. let\n",
       "    _:bool[] = gt a 0\n",
       "    b:bool[] = gt a 0\n",
       "    c:i32[] = xla_call[\n",
       "      call_jaxpr={ lambda ; d:bool[] e:i32[] f:i32[]. let\n",
       "          g:i32[] = select_n d f e\n",
       "        in (g,) }\n",
       "      name=_where\n",
       "    ] b a 0\n",
       "  in (c,) }"
      ]
     },
     "execution_count": 79,
     "metadata": {},
     "output_type": "execute_result"
    }
   ],
   "source": [
    "jax.make_jaxpr(my_good_relu)(3)"
   ]
  },
  {
   "cell_type": "markdown",
   "id": "zdZu3daVn6Bg",
   "metadata": {
    "id": "zdZu3daVn6Bg"
   },
   "source": [
    "The two main ways to do branching are `jnp.where`, which avoids the branch completely and just selects values between two already existing arrays, and `jax.lax.cond`, which conditionally executes one of the functions it is given as argument."
   ]
  },
  {
   "cell_type": "markdown",
   "id": "59bcb14b-842c-4293-b1a6-f341e0944bb2",
   "metadata": {
    "id": "59bcb14b-842c-4293-b1a6-f341e0944bb2"
   },
   "source": [
    "### 1.4.3 Loops\n",
    "\n",
    "Loops have the same problem... we can't loop if we don't have the concrete value of the loop condition:"
   ]
  },
  {
   "cell_type": "code",
   "execution_count": 41,
   "id": "93cedaa4-0e85-4c47-9a63-1fe299cb3df9",
   "metadata": {
    "id": "93cedaa4-0e85-4c47-9a63-1fe299cb3df9"
   },
   "outputs": [],
   "source": [
    "def my_pow(x, n):\n",
    "    i = 0\n",
    "    res = 1.0\n",
    "    while i < n:\n",
    "        res = res*x\n",
    "        i = i+1\n",
    "    return res"
   ]
  },
  {
   "cell_type": "code",
   "execution_count": 42,
   "id": "5ba2e5a6-7a89-4d11-9d9b-79982ba4316a",
   "metadata": {
    "colab": {
     "base_uri": "https://localhost:8080/"
    },
    "id": "5ba2e5a6-7a89-4d11-9d9b-79982ba4316a",
    "outputId": "f5fa75a6-88b2-4024-9452-3cb6f27104c5"
   },
   "outputs": [
    {
     "data": {
      "text/plain": [
       "8.0"
      ]
     },
     "execution_count": 42,
     "metadata": {},
     "output_type": "execute_result"
    }
   ],
   "source": [
    "my_pow(2.0, 3)"
   ]
  },
  {
   "cell_type": "code",
   "execution_count": 43,
   "id": "a8709ce5-8ebf-42a8-b239-e2cce5d4ade5",
   "metadata": {
    "colab": {
     "base_uri": "https://localhost:8080/",
     "height": 694
    },
    "id": "a8709ce5-8ebf-42a8-b239-e2cce5d4ade5",
    "outputId": "dfe06057-f421-429c-9243-d37d810c5978"
   },
   "outputs": [
    {
     "ename": "ConcretizationTypeError",
     "evalue": "ignored",
     "output_type": "error",
     "traceback": [
      "\u001b[0;31m---------------------------------------------------------------------------\u001b[0m",
      "\u001b[0;31mUnfilteredStackTrace\u001b[0m                      Traceback (most recent call last)",
      "\u001b[0;32m<ipython-input-43-926fe3e33694>\u001b[0m in \u001b[0;36m<module>\u001b[0;34m()\u001b[0m\n\u001b[0;32m----> 1\u001b[0;31m \u001b[0mjax\u001b[0m\u001b[0;34m.\u001b[0m\u001b[0mjit\u001b[0m\u001b[0;34m(\u001b[0m\u001b[0mmy_pow\u001b[0m\u001b[0;34m)\u001b[0m\u001b[0;34m(\u001b[0m\u001b[0;36m2.0\u001b[0m\u001b[0;34m,\u001b[0m \u001b[0;36m3\u001b[0m\u001b[0;34m)\u001b[0m\u001b[0;34m\u001b[0m\u001b[0;34m\u001b[0m\u001b[0m\n\u001b[0m",
      "\u001b[0;32m/usr/local/lib/python3.7/dist-packages/jax/_src/traceback_util.py\u001b[0m in \u001b[0;36mreraise_with_filtered_traceback\u001b[0;34m(*args, **kwargs)\u001b[0m\n\u001b[1;32m    161\u001b[0m     \u001b[0;32mtry\u001b[0m\u001b[0;34m:\u001b[0m\u001b[0;34m\u001b[0m\u001b[0;34m\u001b[0m\u001b[0m\n\u001b[0;32m--> 162\u001b[0;31m       \u001b[0;32mreturn\u001b[0m \u001b[0mfun\u001b[0m\u001b[0;34m(\u001b[0m\u001b[0;34m*\u001b[0m\u001b[0margs\u001b[0m\u001b[0;34m,\u001b[0m \u001b[0;34m**\u001b[0m\u001b[0mkwargs\u001b[0m\u001b[0;34m)\u001b[0m\u001b[0;34m\u001b[0m\u001b[0;34m\u001b[0m\u001b[0m\n\u001b[0m\u001b[1;32m    163\u001b[0m     \u001b[0;32mexcept\u001b[0m \u001b[0mException\u001b[0m \u001b[0;32mas\u001b[0m \u001b[0me\u001b[0m\u001b[0;34m:\u001b[0m\u001b[0;34m\u001b[0m\u001b[0;34m\u001b[0m\u001b[0m\n",
      "\u001b[0;32m/usr/local/lib/python3.7/dist-packages/jax/_src/api.py\u001b[0m in \u001b[0;36mcache_miss\u001b[0;34m(*args, **kwargs)\u001b[0m\n\u001b[1;32m    434\u001b[0m         \u001b[0mdevice\u001b[0m\u001b[0;34m=\u001b[0m\u001b[0mdevice\u001b[0m\u001b[0;34m,\u001b[0m \u001b[0mbackend\u001b[0m\u001b[0;34m=\u001b[0m\u001b[0mbackend\u001b[0m\u001b[0;34m,\u001b[0m \u001b[0mname\u001b[0m\u001b[0;34m=\u001b[0m\u001b[0mflat_fun\u001b[0m\u001b[0;34m.\u001b[0m\u001b[0m__name__\u001b[0m\u001b[0;34m,\u001b[0m\u001b[0;34m\u001b[0m\u001b[0;34m\u001b[0m\u001b[0m\n\u001b[0;32m--> 435\u001b[0;31m         donated_invars=donated_invars, inline=inline)\n\u001b[0m\u001b[1;32m    436\u001b[0m     \u001b[0mout_pytree_def\u001b[0m \u001b[0;34m=\u001b[0m \u001b[0mout_tree\u001b[0m\u001b[0;34m(\u001b[0m\u001b[0;34m)\u001b[0m\u001b[0;34m\u001b[0m\u001b[0;34m\u001b[0m\u001b[0m\n",
      "\u001b[0;32m/usr/local/lib/python3.7/dist-packages/jax/core.py\u001b[0m in \u001b[0;36mbind\u001b[0;34m(self, fun, *args, **params)\u001b[0m\n\u001b[1;32m   1708\u001b[0m   \u001b[0;32mdef\u001b[0m \u001b[0mbind\u001b[0m\u001b[0;34m(\u001b[0m\u001b[0mself\u001b[0m\u001b[0;34m,\u001b[0m \u001b[0mfun\u001b[0m\u001b[0;34m,\u001b[0m \u001b[0;34m*\u001b[0m\u001b[0margs\u001b[0m\u001b[0;34m,\u001b[0m \u001b[0;34m**\u001b[0m\u001b[0mparams\u001b[0m\u001b[0;34m)\u001b[0m\u001b[0;34m:\u001b[0m\u001b[0;34m\u001b[0m\u001b[0;34m\u001b[0m\u001b[0m\n\u001b[0;32m-> 1709\u001b[0;31m     \u001b[0;32mreturn\u001b[0m \u001b[0mcall_bind\u001b[0m\u001b[0;34m(\u001b[0m\u001b[0mself\u001b[0m\u001b[0;34m,\u001b[0m \u001b[0mfun\u001b[0m\u001b[0;34m,\u001b[0m \u001b[0;34m*\u001b[0m\u001b[0margs\u001b[0m\u001b[0;34m,\u001b[0m \u001b[0;34m**\u001b[0m\u001b[0mparams\u001b[0m\u001b[0;34m)\u001b[0m\u001b[0;34m\u001b[0m\u001b[0;34m\u001b[0m\u001b[0m\n\u001b[0m\u001b[1;32m   1710\u001b[0m \u001b[0;34m\u001b[0m\u001b[0m\n",
      "\u001b[0;32m/usr/local/lib/python3.7/dist-packages/jax/core.py\u001b[0m in \u001b[0;36mcall_bind\u001b[0;34m(primitive, fun, *args, **params)\u001b[0m\n\u001b[1;32m   1720\u001b[0m   \u001b[0mtracers\u001b[0m \u001b[0;34m=\u001b[0m \u001b[0mmap\u001b[0m\u001b[0;34m(\u001b[0m\u001b[0mtop_trace\u001b[0m\u001b[0;34m.\u001b[0m\u001b[0mfull_raise\u001b[0m\u001b[0;34m,\u001b[0m \u001b[0margs\u001b[0m\u001b[0;34m)\u001b[0m\u001b[0;34m\u001b[0m\u001b[0;34m\u001b[0m\u001b[0m\n\u001b[0;32m-> 1721\u001b[0;31m   \u001b[0mouts\u001b[0m \u001b[0;34m=\u001b[0m \u001b[0mtop_trace\u001b[0m\u001b[0;34m.\u001b[0m\u001b[0mprocess_call\u001b[0m\u001b[0;34m(\u001b[0m\u001b[0mprimitive\u001b[0m\u001b[0;34m,\u001b[0m \u001b[0mfun\u001b[0m\u001b[0;34m,\u001b[0m \u001b[0mtracers\u001b[0m\u001b[0;34m,\u001b[0m \u001b[0mparams\u001b[0m\u001b[0;34m)\u001b[0m\u001b[0;34m\u001b[0m\u001b[0;34m\u001b[0m\u001b[0m\n\u001b[0m\u001b[1;32m   1722\u001b[0m   \u001b[0;32mreturn\u001b[0m \u001b[0mmap\u001b[0m\u001b[0;34m(\u001b[0m\u001b[0mfull_lower\u001b[0m\u001b[0;34m,\u001b[0m \u001b[0mapply_todos\u001b[0m\u001b[0;34m(\u001b[0m\u001b[0menv_trace_todo\u001b[0m\u001b[0;34m(\u001b[0m\u001b[0;34m)\u001b[0m\u001b[0;34m,\u001b[0m \u001b[0mouts\u001b[0m\u001b[0;34m)\u001b[0m\u001b[0;34m)\u001b[0m\u001b[0;34m\u001b[0m\u001b[0;34m\u001b[0m\u001b[0m\n",
      "\u001b[0;32m/usr/local/lib/python3.7/dist-packages/jax/core.py\u001b[0m in \u001b[0;36mprocess_call\u001b[0;34m(self, primitive, f, tracers, params)\u001b[0m\n\u001b[1;32m    613\u001b[0m   \u001b[0;32mdef\u001b[0m \u001b[0mprocess_call\u001b[0m\u001b[0;34m(\u001b[0m\u001b[0mself\u001b[0m\u001b[0;34m,\u001b[0m \u001b[0mprimitive\u001b[0m\u001b[0;34m,\u001b[0m \u001b[0mf\u001b[0m\u001b[0;34m,\u001b[0m \u001b[0mtracers\u001b[0m\u001b[0;34m,\u001b[0m \u001b[0mparams\u001b[0m\u001b[0;34m)\u001b[0m\u001b[0;34m:\u001b[0m\u001b[0;34m\u001b[0m\u001b[0;34m\u001b[0m\u001b[0m\n\u001b[0;32m--> 614\u001b[0;31m     \u001b[0;32mreturn\u001b[0m \u001b[0mprimitive\u001b[0m\u001b[0;34m.\u001b[0m\u001b[0mimpl\u001b[0m\u001b[0;34m(\u001b[0m\u001b[0mf\u001b[0m\u001b[0;34m,\u001b[0m \u001b[0;34m*\u001b[0m\u001b[0mtracers\u001b[0m\u001b[0;34m,\u001b[0m \u001b[0;34m**\u001b[0m\u001b[0mparams\u001b[0m\u001b[0;34m)\u001b[0m\u001b[0;34m\u001b[0m\u001b[0;34m\u001b[0m\u001b[0m\n\u001b[0m\u001b[1;32m    615\u001b[0m   \u001b[0mprocess_map\u001b[0m \u001b[0;34m=\u001b[0m \u001b[0mprocess_call\u001b[0m\u001b[0;34m\u001b[0m\u001b[0;34m\u001b[0m\u001b[0m\n",
      "\u001b[0;32m/usr/local/lib/python3.7/dist-packages/jax/_src/dispatch.py\u001b[0m in \u001b[0;36m_xla_call_impl\u001b[0;34m(***failed resolving arguments***)\u001b[0m\n\u001b[1;32m    142\u001b[0m   compiled_fun = _xla_callable(fun, device, backend, name, donated_invars,\n\u001b[0;32m--> 143\u001b[0;31m                                *unsafe_map(arg_spec, args))\n\u001b[0m\u001b[1;32m    144\u001b[0m   \u001b[0;32mtry\u001b[0m\u001b[0;34m:\u001b[0m\u001b[0;34m\u001b[0m\u001b[0;34m\u001b[0m\u001b[0m\n",
      "\u001b[0;32m/usr/local/lib/python3.7/dist-packages/jax/linear_util.py\u001b[0m in \u001b[0;36mmemoized_fun\u001b[0;34m(fun, *args)\u001b[0m\n\u001b[1;32m    271\u001b[0m     \u001b[0;32melse\u001b[0m\u001b[0;34m:\u001b[0m\u001b[0;34m\u001b[0m\u001b[0;34m\u001b[0m\u001b[0m\n\u001b[0;32m--> 272\u001b[0;31m       \u001b[0mans\u001b[0m \u001b[0;34m=\u001b[0m \u001b[0mcall\u001b[0m\u001b[0;34m(\u001b[0m\u001b[0mfun\u001b[0m\u001b[0;34m,\u001b[0m \u001b[0;34m*\u001b[0m\u001b[0margs\u001b[0m\u001b[0;34m)\u001b[0m\u001b[0;34m\u001b[0m\u001b[0;34m\u001b[0m\u001b[0m\n\u001b[0m\u001b[1;32m    273\u001b[0m       \u001b[0mcache\u001b[0m\u001b[0;34m[\u001b[0m\u001b[0mkey\u001b[0m\u001b[0;34m]\u001b[0m \u001b[0;34m=\u001b[0m \u001b[0;34m(\u001b[0m\u001b[0mans\u001b[0m\u001b[0;34m,\u001b[0m \u001b[0mfun\u001b[0m\u001b[0;34m.\u001b[0m\u001b[0mstores\u001b[0m\u001b[0;34m)\u001b[0m\u001b[0;34m\u001b[0m\u001b[0;34m\u001b[0m\u001b[0m\n",
      "\u001b[0;32m/usr/local/lib/python3.7/dist-packages/jax/_src/dispatch.py\u001b[0m in \u001b[0;36m_xla_callable_uncached\u001b[0;34m(fun, device, backend, name, donated_invars, *arg_specs)\u001b[0m\n\u001b[1;32m    169\u001b[0m   return lower_xla_callable(fun, device, backend, name, donated_invars,\n\u001b[0;32m--> 170\u001b[0;31m                             *arg_specs).compile().unsafe_call\n\u001b[0m\u001b[1;32m    171\u001b[0m \u001b[0;34m\u001b[0m\u001b[0m\n",
      "\u001b[0;32m/usr/local/lib/python3.7/dist-packages/jax/_src/profiler.py\u001b[0m in \u001b[0;36mwrapper\u001b[0;34m(*args, **kwargs)\u001b[0m\n\u001b[1;32m    205\u001b[0m     \u001b[0;32mwith\u001b[0m \u001b[0mTraceAnnotation\u001b[0m\u001b[0;34m(\u001b[0m\u001b[0mname\u001b[0m\u001b[0;34m,\u001b[0m \u001b[0;34m**\u001b[0m\u001b[0mdecorator_kwargs\u001b[0m\u001b[0;34m)\u001b[0m\u001b[0;34m:\u001b[0m\u001b[0;34m\u001b[0m\u001b[0;34m\u001b[0m\u001b[0m\n\u001b[0;32m--> 206\u001b[0;31m       \u001b[0;32mreturn\u001b[0m \u001b[0mfunc\u001b[0m\u001b[0;34m(\u001b[0m\u001b[0;34m*\u001b[0m\u001b[0margs\u001b[0m\u001b[0;34m,\u001b[0m \u001b[0;34m**\u001b[0m\u001b[0mkwargs\u001b[0m\u001b[0;34m)\u001b[0m\u001b[0;34m\u001b[0m\u001b[0;34m\u001b[0m\u001b[0m\n\u001b[0m\u001b[1;32m    207\u001b[0m     \u001b[0;32mreturn\u001b[0m \u001b[0mwrapper\u001b[0m\u001b[0;34m\u001b[0m\u001b[0;34m\u001b[0m\u001b[0m\n",
      "\u001b[0;32m/usr/local/lib/python3.7/dist-packages/jax/_src/dispatch.py\u001b[0m in \u001b[0;36mlower_xla_callable\u001b[0;34m(fun, device, backend, name, donated_invars, *arg_specs)\u001b[0m\n\u001b[1;32m    197\u001b[0m     jaxpr, out_avals, consts = pe.trace_to_jaxpr_final(\n\u001b[0;32m--> 198\u001b[0;31m         fun, abstract_args, pe.debug_info_final(fun, \"jit\"))\n\u001b[0m\u001b[1;32m    199\u001b[0m   \u001b[0;32mif\u001b[0m \u001b[0many\u001b[0m\u001b[0;34m(\u001b[0m\u001b[0misinstance\u001b[0m\u001b[0;34m(\u001b[0m\u001b[0mc\u001b[0m\u001b[0;34m,\u001b[0m \u001b[0mcore\u001b[0m\u001b[0;34m.\u001b[0m\u001b[0mTracer\u001b[0m\u001b[0;34m)\u001b[0m \u001b[0;32mfor\u001b[0m \u001b[0mc\u001b[0m \u001b[0;32min\u001b[0m \u001b[0mconsts\u001b[0m\u001b[0;34m)\u001b[0m\u001b[0;34m:\u001b[0m\u001b[0;34m\u001b[0m\u001b[0;34m\u001b[0m\u001b[0m\n",
      "\u001b[0;32m/usr/local/lib/python3.7/dist-packages/jax/_src/profiler.py\u001b[0m in \u001b[0;36mwrapper\u001b[0;34m(*args, **kwargs)\u001b[0m\n\u001b[1;32m    205\u001b[0m     \u001b[0;32mwith\u001b[0m \u001b[0mTraceAnnotation\u001b[0m\u001b[0;34m(\u001b[0m\u001b[0mname\u001b[0m\u001b[0;34m,\u001b[0m \u001b[0;34m**\u001b[0m\u001b[0mdecorator_kwargs\u001b[0m\u001b[0;34m)\u001b[0m\u001b[0;34m:\u001b[0m\u001b[0;34m\u001b[0m\u001b[0;34m\u001b[0m\u001b[0m\n\u001b[0;32m--> 206\u001b[0;31m       \u001b[0;32mreturn\u001b[0m \u001b[0mfunc\u001b[0m\u001b[0;34m(\u001b[0m\u001b[0;34m*\u001b[0m\u001b[0margs\u001b[0m\u001b[0;34m,\u001b[0m \u001b[0;34m**\u001b[0m\u001b[0mkwargs\u001b[0m\u001b[0;34m)\u001b[0m\u001b[0;34m\u001b[0m\u001b[0;34m\u001b[0m\u001b[0m\n\u001b[0m\u001b[1;32m    207\u001b[0m     \u001b[0;32mreturn\u001b[0m \u001b[0mwrapper\u001b[0m\u001b[0;34m\u001b[0m\u001b[0;34m\u001b[0m\u001b[0m\n",
      "\u001b[0;32m/usr/local/lib/python3.7/dist-packages/jax/interpreters/partial_eval.py\u001b[0m in \u001b[0;36mtrace_to_jaxpr_final\u001b[0;34m(fun, in_avals, debug_info)\u001b[0m\n\u001b[1;32m   1797\u001b[0m     \u001b[0;32mwith\u001b[0m \u001b[0mcore\u001b[0m\u001b[0;34m.\u001b[0m\u001b[0mnew_sublevel\u001b[0m\u001b[0;34m(\u001b[0m\u001b[0;34m)\u001b[0m\u001b[0;34m:\u001b[0m\u001b[0;34m\u001b[0m\u001b[0;34m\u001b[0m\u001b[0m\n\u001b[0;32m-> 1798\u001b[0;31m       \u001b[0mjaxpr\u001b[0m\u001b[0;34m,\u001b[0m \u001b[0mout_avals\u001b[0m\u001b[0;34m,\u001b[0m \u001b[0mconsts\u001b[0m \u001b[0;34m=\u001b[0m \u001b[0mtrace_to_subjaxpr_dynamic\u001b[0m\u001b[0;34m(\u001b[0m\u001b[0mfun\u001b[0m\u001b[0;34m,\u001b[0m \u001b[0mmain\u001b[0m\u001b[0;34m,\u001b[0m \u001b[0min_avals\u001b[0m\u001b[0;34m)\u001b[0m\u001b[0;34m\u001b[0m\u001b[0;34m\u001b[0m\u001b[0m\n\u001b[0m\u001b[1;32m   1799\u001b[0m     \u001b[0;32mdel\u001b[0m \u001b[0mfun\u001b[0m\u001b[0;34m,\u001b[0m \u001b[0mmain\u001b[0m\u001b[0;34m\u001b[0m\u001b[0;34m\u001b[0m\u001b[0m\n",
      "\u001b[0;32m/usr/local/lib/python3.7/dist-packages/jax/interpreters/partial_eval.py\u001b[0m in \u001b[0;36mtrace_to_subjaxpr_dynamic\u001b[0;34m(fun, main, in_avals, keep_inputs)\u001b[0m\n\u001b[1;32m   1774\u001b[0m     \u001b[0min_tracers_\u001b[0m \u001b[0;34m=\u001b[0m \u001b[0;34m[\u001b[0m\u001b[0mt\u001b[0m \u001b[0;32mfor\u001b[0m \u001b[0mt\u001b[0m\u001b[0;34m,\u001b[0m \u001b[0mkeep\u001b[0m \u001b[0;32min\u001b[0m \u001b[0mzip\u001b[0m\u001b[0;34m(\u001b[0m\u001b[0min_tracers\u001b[0m\u001b[0;34m,\u001b[0m \u001b[0mkeep_inputs\u001b[0m\u001b[0;34m)\u001b[0m \u001b[0;32mif\u001b[0m \u001b[0mkeep\u001b[0m\u001b[0;34m]\u001b[0m\u001b[0;34m\u001b[0m\u001b[0;34m\u001b[0m\u001b[0m\n\u001b[0;32m-> 1775\u001b[0;31m     \u001b[0mans\u001b[0m \u001b[0;34m=\u001b[0m \u001b[0mfun\u001b[0m\u001b[0;34m.\u001b[0m\u001b[0mcall_wrapped\u001b[0m\u001b[0;34m(\u001b[0m\u001b[0;34m*\u001b[0m\u001b[0min_tracers_\u001b[0m\u001b[0;34m)\u001b[0m\u001b[0;34m\u001b[0m\u001b[0;34m\u001b[0m\u001b[0m\n\u001b[0m\u001b[1;32m   1776\u001b[0m     \u001b[0mout_tracers\u001b[0m \u001b[0;34m=\u001b[0m \u001b[0mmap\u001b[0m\u001b[0;34m(\u001b[0m\u001b[0mtrace\u001b[0m\u001b[0;34m.\u001b[0m\u001b[0mfull_raise\u001b[0m\u001b[0;34m,\u001b[0m \u001b[0mans\u001b[0m\u001b[0;34m)\u001b[0m\u001b[0;34m\u001b[0m\u001b[0;34m\u001b[0m\u001b[0m\n",
      "\u001b[0;32m/usr/local/lib/python3.7/dist-packages/jax/linear_util.py\u001b[0m in \u001b[0;36mcall_wrapped\u001b[0;34m(self, *args, **kwargs)\u001b[0m\n\u001b[1;32m    165\u001b[0m     \u001b[0;32mtry\u001b[0m\u001b[0;34m:\u001b[0m\u001b[0;34m\u001b[0m\u001b[0;34m\u001b[0m\u001b[0m\n\u001b[0;32m--> 166\u001b[0;31m       \u001b[0mans\u001b[0m \u001b[0;34m=\u001b[0m \u001b[0mself\u001b[0m\u001b[0;34m.\u001b[0m\u001b[0mf\u001b[0m\u001b[0;34m(\u001b[0m\u001b[0;34m*\u001b[0m\u001b[0margs\u001b[0m\u001b[0;34m,\u001b[0m \u001b[0;34m**\u001b[0m\u001b[0mdict\u001b[0m\u001b[0;34m(\u001b[0m\u001b[0mself\u001b[0m\u001b[0;34m.\u001b[0m\u001b[0mparams\u001b[0m\u001b[0;34m,\u001b[0m \u001b[0;34m**\u001b[0m\u001b[0mkwargs\u001b[0m\u001b[0;34m)\u001b[0m\u001b[0;34m)\u001b[0m\u001b[0;34m\u001b[0m\u001b[0;34m\u001b[0m\u001b[0m\n\u001b[0m\u001b[1;32m    167\u001b[0m     \u001b[0;32mexcept\u001b[0m\u001b[0;34m:\u001b[0m\u001b[0;34m\u001b[0m\u001b[0;34m\u001b[0m\u001b[0m\n",
      "\u001b[0;32m<ipython-input-41-fa69d16324af>\u001b[0m in \u001b[0;36mmy_pow\u001b[0;34m(x, n)\u001b[0m\n\u001b[1;32m      3\u001b[0m     \u001b[0mres\u001b[0m \u001b[0;34m=\u001b[0m \u001b[0;36m1.0\u001b[0m\u001b[0;34m\u001b[0m\u001b[0;34m\u001b[0m\u001b[0m\n\u001b[0;32m----> 4\u001b[0;31m     \u001b[0;32mwhile\u001b[0m \u001b[0mi\u001b[0m \u001b[0;34m<\u001b[0m \u001b[0mn\u001b[0m\u001b[0;34m:\u001b[0m\u001b[0;34m\u001b[0m\u001b[0;34m\u001b[0m\u001b[0m\n\u001b[0m\u001b[1;32m      5\u001b[0m         \u001b[0mres\u001b[0m \u001b[0;34m=\u001b[0m \u001b[0mres\u001b[0m\u001b[0;34m*\u001b[0m\u001b[0mx\u001b[0m\u001b[0;34m\u001b[0m\u001b[0;34m\u001b[0m\u001b[0m\n",
      "\u001b[0;32m/usr/local/lib/python3.7/dist-packages/jax/core.py\u001b[0m in \u001b[0;36m__bool__\u001b[0;34m(self)\u001b[0m\n\u001b[1;32m    535\u001b[0m   \u001b[0;32mdef\u001b[0m \u001b[0m__nonzero__\u001b[0m\u001b[0;34m(\u001b[0m\u001b[0mself\u001b[0m\u001b[0;34m)\u001b[0m\u001b[0;34m:\u001b[0m \u001b[0;32mreturn\u001b[0m \u001b[0mself\u001b[0m\u001b[0;34m.\u001b[0m\u001b[0maval\u001b[0m\u001b[0;34m.\u001b[0m\u001b[0m_nonzero\u001b[0m\u001b[0;34m(\u001b[0m\u001b[0mself\u001b[0m\u001b[0;34m)\u001b[0m\u001b[0;34m\u001b[0m\u001b[0;34m\u001b[0m\u001b[0m\n\u001b[0;32m--> 536\u001b[0;31m   \u001b[0;32mdef\u001b[0m \u001b[0m__bool__\u001b[0m\u001b[0;34m(\u001b[0m\u001b[0mself\u001b[0m\u001b[0;34m)\u001b[0m\u001b[0;34m:\u001b[0m \u001b[0;32mreturn\u001b[0m \u001b[0mself\u001b[0m\u001b[0;34m.\u001b[0m\u001b[0maval\u001b[0m\u001b[0;34m.\u001b[0m\u001b[0m_bool\u001b[0m\u001b[0;34m(\u001b[0m\u001b[0mself\u001b[0m\u001b[0;34m)\u001b[0m\u001b[0;34m\u001b[0m\u001b[0;34m\u001b[0m\u001b[0m\n\u001b[0m\u001b[1;32m    537\u001b[0m   \u001b[0;32mdef\u001b[0m \u001b[0m__int__\u001b[0m\u001b[0;34m(\u001b[0m\u001b[0mself\u001b[0m\u001b[0;34m)\u001b[0m\u001b[0;34m:\u001b[0m \u001b[0;32mreturn\u001b[0m \u001b[0mself\u001b[0m\u001b[0;34m.\u001b[0m\u001b[0maval\u001b[0m\u001b[0;34m.\u001b[0m\u001b[0m_int\u001b[0m\u001b[0;34m(\u001b[0m\u001b[0mself\u001b[0m\u001b[0;34m)\u001b[0m\u001b[0;34m\u001b[0m\u001b[0;34m\u001b[0m\u001b[0m\n",
      "\u001b[0;32m/usr/local/lib/python3.7/dist-packages/jax/core.py\u001b[0m in \u001b[0;36merror\u001b[0;34m(self, arg)\u001b[0m\n\u001b[1;32m   1064\u001b[0m   \u001b[0;32mdef\u001b[0m \u001b[0merror\u001b[0m\u001b[0;34m(\u001b[0m\u001b[0mself\u001b[0m\u001b[0;34m,\u001b[0m \u001b[0marg\u001b[0m\u001b[0;34m)\u001b[0m\u001b[0;34m:\u001b[0m\u001b[0;34m\u001b[0m\u001b[0;34m\u001b[0m\u001b[0m\n\u001b[0;32m-> 1065\u001b[0;31m     \u001b[0;32mraise\u001b[0m \u001b[0mConcretizationTypeError\u001b[0m\u001b[0;34m(\u001b[0m\u001b[0marg\u001b[0m\u001b[0;34m,\u001b[0m \u001b[0mfname_context\u001b[0m\u001b[0;34m)\u001b[0m\u001b[0;34m\u001b[0m\u001b[0;34m\u001b[0m\u001b[0m\n\u001b[0m\u001b[1;32m   1066\u001b[0m   \u001b[0;32mreturn\u001b[0m \u001b[0merror\u001b[0m\u001b[0;34m\u001b[0m\u001b[0;34m\u001b[0m\u001b[0m\n",
      "\u001b[0;31mUnfilteredStackTrace\u001b[0m: jax._src.errors.ConcretizationTypeError: Abstract tracer value encountered where concrete value is expected: Traced<ShapedArray(bool[], weak_type=True)>with<DynamicJaxprTrace(level=0/1)>\nThe problem arose with the `bool` function. \nWhile tracing the function my_pow at <ipython-input-41-fa69d16324af>:1 for jit, this concrete value was not available in Python because it depends on the value of the argument 'n'.\n\nSee https://jax.readthedocs.io/en/latest/errors.html#jax.errors.ConcretizationTypeError\n\nThe stack trace below excludes JAX-internal frames.\nThe preceding is the original exception that occurred, unmodified.\n\n--------------------",
      "\nThe above exception was the direct cause of the following exception:\n",
      "\u001b[0;31mConcretizationTypeError\u001b[0m                   Traceback (most recent call last)",
      "\u001b[0;32m<ipython-input-43-926fe3e33694>\u001b[0m in \u001b[0;36m<module>\u001b[0;34m()\u001b[0m\n\u001b[0;32m----> 1\u001b[0;31m \u001b[0mjax\u001b[0m\u001b[0;34m.\u001b[0m\u001b[0mjit\u001b[0m\u001b[0;34m(\u001b[0m\u001b[0mmy_pow\u001b[0m\u001b[0;34m)\u001b[0m\u001b[0;34m(\u001b[0m\u001b[0;36m2.0\u001b[0m\u001b[0;34m,\u001b[0m \u001b[0;36m3\u001b[0m\u001b[0;34m)\u001b[0m\u001b[0;34m\u001b[0m\u001b[0;34m\u001b[0m\u001b[0m\n\u001b[0m",
      "\u001b[0;32m<ipython-input-41-fa69d16324af>\u001b[0m in \u001b[0;36mmy_pow\u001b[0;34m(x, n)\u001b[0m\n\u001b[1;32m      2\u001b[0m     \u001b[0mi\u001b[0m \u001b[0;34m=\u001b[0m \u001b[0;36m0\u001b[0m\u001b[0;34m\u001b[0m\u001b[0;34m\u001b[0m\u001b[0m\n\u001b[1;32m      3\u001b[0m     \u001b[0mres\u001b[0m \u001b[0;34m=\u001b[0m \u001b[0;36m1.0\u001b[0m\u001b[0;34m\u001b[0m\u001b[0;34m\u001b[0m\u001b[0m\n\u001b[0;32m----> 4\u001b[0;31m     \u001b[0;32mwhile\u001b[0m \u001b[0mi\u001b[0m \u001b[0;34m<\u001b[0m \u001b[0mn\u001b[0m\u001b[0;34m:\u001b[0m\u001b[0;34m\u001b[0m\u001b[0;34m\u001b[0m\u001b[0m\n\u001b[0m\u001b[1;32m      5\u001b[0m         \u001b[0mres\u001b[0m \u001b[0;34m=\u001b[0m \u001b[0mres\u001b[0m\u001b[0;34m*\u001b[0m\u001b[0mx\u001b[0m\u001b[0;34m\u001b[0m\u001b[0;34m\u001b[0m\u001b[0m\n\u001b[1;32m      6\u001b[0m         \u001b[0mi\u001b[0m \u001b[0;34m=\u001b[0m \u001b[0mi\u001b[0m\u001b[0;34m+\u001b[0m\u001b[0;36m1\u001b[0m\u001b[0;34m\u001b[0m\u001b[0;34m\u001b[0m\u001b[0m\n",
      "\u001b[0;31mConcretizationTypeError\u001b[0m: Abstract tracer value encountered where concrete value is expected: Traced<ShapedArray(bool[], weak_type=True)>with<DynamicJaxprTrace(level=0/1)>\nThe problem arose with the `bool` function. \nWhile tracing the function my_pow at <ipython-input-41-fa69d16324af>:1 for jit, this concrete value was not available in Python because it depends on the value of the argument 'n'.\n\nSee https://jax.readthedocs.io/en/latest/errors.html#jax.errors.ConcretizationTypeError"
     ]
    }
   ],
   "source": [
    "jax.jit(my_pow)(2.0, 3)"
   ]
  },
  {
   "cell_type": "code",
   "execution_count": 44,
   "id": "a6770d58-5447-44ac-9c90-d79d600bd6c3",
   "metadata": {
    "id": "a6770d58-5447-44ac-9c90-d79d600bd6c3"
   },
   "outputs": [],
   "source": [
    "jpow = jax.jit(my_pow, static_argnames=['n'])"
   ]
  },
  {
   "cell_type": "code",
   "execution_count": 45,
   "id": "1bb46675-37a4-4d76-bc27-f7d584416d6e",
   "metadata": {
    "colab": {
     "base_uri": "https://localhost:8080/"
    },
    "id": "1bb46675-37a4-4d76-bc27-f7d584416d6e",
    "outputId": "0788e175-2a50-4726-b406-2e0f4d7025cf"
   },
   "outputs": [
    {
     "data": {
      "text/plain": [
       "DeviceArray(8., dtype=float32, weak_type=True)"
      ]
     },
     "execution_count": 45,
     "metadata": {},
     "output_type": "execute_result"
    }
   ],
   "source": [
    "jpow(2.0, 3)"
   ]
  },
  {
   "cell_type": "code",
   "execution_count": 46,
   "id": "8fad83c0-02c3-4af9-9fc3-9910185fb46a",
   "metadata": {
    "colab": {
     "base_uri": "https://localhost:8080/"
    },
    "id": "8fad83c0-02c3-4af9-9fc3-9910185fb46a",
    "outputId": "8c0ee65f-e426-4a75-aa64-79093b928681"
   },
   "outputs": [
    {
     "data": {
      "text/plain": [
       "{ lambda ; a:f32[]. let\n",
       "    b:f32[] = mul a 1.0\n",
       "    c:f32[] = mul b a\n",
       "    d:f32[] = mul c a\n",
       "  in (d,) }"
      ]
     },
     "execution_count": 46,
     "metadata": {},
     "output_type": "execute_result"
    }
   ],
   "source": [
    "from functools import partial\n",
    "\n",
    "jax.make_jaxpr(partial(my_pow, n=3))(2.0)"
   ]
  },
  {
   "cell_type": "markdown",
   "id": "iP8l0Hm_qZKk",
   "metadata": {
    "id": "iP8l0Hm_qZKk"
   },
   "source": [
    "Now we can comile the function, but our loop has been *unrolled*, i.e., instead of a variable lenth loop in the code, JAX repeats the loop body instructions `n` times:\n"
   ]
  },
  {
   "cell_type": "code",
   "execution_count": 47,
   "id": "n8iMGw9CyEJR",
   "metadata": {
    "colab": {
     "base_uri": "https://localhost:8080/"
    },
    "id": "n8iMGw9CyEJR",
    "outputId": "05c0c033-12c2-4bc0-8347-f10bac93e912"
   },
   "outputs": [
    {
     "data": {
      "text/plain": [
       "{ lambda ; a:f32[]. let\n",
       "    b:f32[] = mul a 1.0\n",
       "    c:f32[] = mul b a\n",
       "    d:f32[] = mul c a\n",
       "    e:f32[] = mul d a\n",
       "    f:f32[] = mul e a\n",
       "    g:f32[] = mul f a\n",
       "    h:f32[] = mul g a\n",
       "    i:f32[] = mul h a\n",
       "    j:f32[] = mul i a\n",
       "    k:f32[] = mul j a\n",
       "    l:f32[] = mul k a\n",
       "    m:f32[] = mul l a\n",
       "    n:f32[] = mul m a\n",
       "    o:f32[] = mul n a\n",
       "    p:f32[] = mul o a\n",
       "    q:f32[] = mul p a\n",
       "    r:f32[] = mul q a\n",
       "    s:f32[] = mul r a\n",
       "    t:f32[] = mul s a\n",
       "    u:f32[] = mul t a\n",
       "  in (u,) }"
      ]
     },
     "execution_count": 47,
     "metadata": {},
     "output_type": "execute_result"
    }
   ],
   "source": [
    "jax.make_jaxpr(partial(my_pow, n=20))(2.0)"
   ]
  },
  {
   "cell_type": "markdown",
   "id": "_TQaAY6wyTN3",
   "metadata": {
    "id": "_TQaAY6wyTN3"
   },
   "source": [
    "For small loops, this can even be faster (loop unrolling is an actual optimization done by compilers for some small static loops).\n",
    "\n",
    "But for loops with many iterations, this can lead to a drastically exploding code size which can make compile times very slow (and scaling with your input size)."
   ]
  },
  {
   "cell_type": "markdown",
   "id": "wvD4d80-yp7N",
   "metadata": {
    "id": "wvD4d80-yp7N"
   },
   "source": [
    "For true variable sized loops, JAX has a number of methods available:\n",
    "\n",
    "\n",
    "*   `jax.lax.while_loop`\n",
    "*   `jax.lax.fori_loop`\n",
    "*    `jax.lax.scan`"
   ]
  },
  {
   "cell_type": "markdown",
   "id": "Q5SQp891y7jY",
   "metadata": {
    "id": "Q5SQp891y7jY"
   },
   "source": [
    "They mostly differ in the what arguments the loop body takes and can be used exchangeably. However, they differ also with regard to differentiability. For now, let's demonstrate how to implement the above loop using `while_loop`:"
   ]
  },
  {
   "cell_type": "code",
   "execution_count": 51,
   "id": "w2H6OCge1x8m",
   "metadata": {
    "colab": {
     "base_uri": "https://localhost:8080/"
    },
    "id": "w2H6OCge1x8m",
    "outputId": "3a2f4bb2-a879-4b86-b62d-f32b12d82194"
   },
   "outputs": [
    {
     "data": {
      "text/plain": [
       "DeviceArray(8., dtype=float32, weak_type=True)"
      ]
     },
     "execution_count": 51,
     "metadata": {},
     "output_type": "execute_result"
    }
   ],
   "source": [
    "def my_pow_jax(x, n):\n",
    "    def loop_condition(arg):\n",
    "        res, i = arg\n",
    "        return i < n\n",
    "    def loop_body(arg):\n",
    "        res, i = arg\n",
    "        return res * x, i + 1\n",
    "    res, i = jax.lax.while_loop(loop_condition, loop_body, (1.0, 0))\n",
    "    return res\n",
    "\n",
    "jax.jit(my_pow_jax)(2.0, 3)"
   ]
  },
  {
   "cell_type": "code",
   "execution_count": 52,
   "id": "S66uKou-3cb5",
   "metadata": {
    "colab": {
     "base_uri": "https://localhost:8080/"
    },
    "id": "S66uKou-3cb5",
    "outputId": "84b3ced5-e0d8-4f3b-a657-3155cff74449"
   },
   "outputs": [
    {
     "data": {
      "text/plain": [
       "{ lambda ; a:f32[]. let\n",
       "    b:f32[] _:i32[] = while[\n",
       "      body_jaxpr={ lambda ; c:f32[] d:f32[] e:i32[]. let\n",
       "          f:f32[] = mul d c\n",
       "          g:i32[] = add e 1\n",
       "        in (f, g) }\n",
       "      body_nconsts=1\n",
       "      cond_jaxpr={ lambda ; h:f32[] i:i32[]. let j:bool[] = lt i 20 in (j,) }\n",
       "      cond_nconsts=0\n",
       "    ] a 1.0 0\n",
       "  in (b,) }"
      ]
     },
     "execution_count": 52,
     "metadata": {},
     "output_type": "execute_result"
    }
   ],
   "source": [
    "jax.make_jaxpr(partial(my_pow_jax, n=20))(2.0)"
   ]
  },
  {
   "cell_type": "markdown",
   "id": "7d556310-ae48-4280-9921-d0128cdffafb",
   "metadata": {
    "id": "7d556310-ae48-4280-9921-d0128cdffafb"
   },
   "source": [
    "### 1.5 Automatic vectorization (`jax.vmap`)\n",
    "\n",
    "Consider the following simple code that computes the convolution of two one-dimensional vectors:"
   ]
  },
  {
   "cell_type": "code",
   "execution_count": 96,
   "id": "1d661efd-2bf4-4645-ac59-8b66b931d6d6",
   "metadata": {
    "id": "1d661efd-2bf4-4645-ac59-8b66b931d6d6"
   },
   "outputs": [],
   "source": [
    "def convolve(x, w):\n",
    "  output = []\n",
    "  for i in range(1, len(x)-1):\n",
    "    output.append(jnp.dot(x[i-1:i+2], w))\n",
    "  return jnp.array(output)"
   ]
  },
  {
   "cell_type": "code",
   "execution_count": 97,
   "id": "0e6a8904-bc02-41ba-aa9b-88ca630b87a3",
   "metadata": {
    "colab": {
     "base_uri": "https://localhost:8080/"
    },
    "id": "0e6a8904-bc02-41ba-aa9b-88ca630b87a3",
    "outputId": "c94fc28b-f469-42bc-a95f-02e862b05dbb"
   },
   "outputs": [
    {
     "data": {
      "text/plain": [
       "DeviceArray([11., 20., 29.], dtype=float32)"
      ]
     },
     "execution_count": 97,
     "metadata": {},
     "output_type": "execute_result"
    }
   ],
   "source": [
    "x = jnp.arange(5)\n",
    "w = jnp.array([2., 3., 4.])\n",
    "\n",
    "convolve(x, w)"
   ]
  },
  {
   "cell_type": "markdown",
   "id": "8b2ebd7d-63bb-4aa9-8351-6915a7a8fad7",
   "metadata": {
    "id": "8b2ebd7d-63bb-4aa9-8351-6915a7a8fad7"
   },
   "source": [
    "Suppose we would like to apply this function to a batch of weights $w$ to a batch of vectors $x$"
   ]
  },
  {
   "cell_type": "code",
   "execution_count": 98,
   "id": "71ac13df-d3f1-4576-9381-f5ce33dfe15c",
   "metadata": {
    "id": "71ac13df-d3f1-4576-9381-f5ce33dfe15c"
   },
   "outputs": [],
   "source": [
    "xs = jnp.stack([x, 2*x])\n",
    "ws = jnp.stack([w, 2*w])"
   ]
  },
  {
   "cell_type": "markdown",
   "id": "1315eb89-4c39-46a0-8d30-ccdbc87f707e",
   "metadata": {
    "id": "1315eb89-4c39-46a0-8d30-ccdbc87f707e"
   },
   "source": [
    "The most naive option would be to simply loop over the batch in Python:\n",
    "\n"
   ]
  },
  {
   "cell_type": "code",
   "execution_count": 99,
   "id": "b227a1e0-6deb-47eb-a331-6f239db0b4a0",
   "metadata": {
    "colab": {
     "base_uri": "https://localhost:8080/"
    },
    "id": "b227a1e0-6deb-47eb-a331-6f239db0b4a0",
    "outputId": "d81f2410-06fa-49ed-8e73-62f59ab76bdd"
   },
   "outputs": [
    {
     "data": {
      "text/plain": [
       "DeviceArray([[ 11.,  20.,  29.],\n",
       "             [ 44.,  80., 116.]], dtype=float32)"
      ]
     },
     "execution_count": 99,
     "metadata": {},
     "output_type": "execute_result"
    }
   ],
   "source": [
    "def manually_batched_convolve(xs, ws):\n",
    "  output = []\n",
    "  for i in range(xs.shape[0]):\n",
    "    output.append(convolve(xs[i], ws[i]))\n",
    "  return jnp.stack(output)\n",
    "\n",
    "manually_batched_convolve(xs, ws)"
   ]
  },
  {
   "cell_type": "markdown",
   "id": "2cfc390b-838d-4016-8a85-14025e18ffca",
   "metadata": {
    "id": "2cfc390b-838d-4016-8a85-14025e18ffca"
   },
   "source": [
    "This produces the correct result, however it is not very efficient.\n",
    "\n",
    "In order to batch the computation efficiently, you would normally have to rewrite the function manually to ensure it is done in vectorized form. This is not particularly difficult to implement, but does involve changing how the function treats indices, axes, and other parts of the input.\n",
    "\n",
    "For example, we could manually rewrite convolve() to support vectorized computation across the batch dimension as follows"
   ]
  },
  {
   "cell_type": "code",
   "execution_count": 100,
   "id": "a1107da1-1a50-4854-b209-595bab7c15f7",
   "metadata": {
    "colab": {
     "base_uri": "https://localhost:8080/"
    },
    "id": "a1107da1-1a50-4854-b209-595bab7c15f7",
    "outputId": "a590929c-e7ac-4bc1-e355-216e6a91d2d8"
   },
   "outputs": [
    {
     "data": {
      "text/plain": [
       "DeviceArray([[ 11.,  20.,  29.],\n",
       "             [ 44.,  80., 116.]], dtype=float32)"
      ]
     },
     "execution_count": 100,
     "metadata": {},
     "output_type": "execute_result"
    }
   ],
   "source": [
    "auto_batch_convolve = jax.vmap(convolve)\n",
    "\n",
    "auto_batch_convolve(xs, ws)"
   ]
  },
  {
   "cell_type": "code",
   "execution_count": 101,
   "id": "5215886e-00aa-469a-93b7-682491b90bde",
   "metadata": {
    "colab": {
     "base_uri": "https://localhost:8080/"
    },
    "id": "5215886e-00aa-469a-93b7-682491b90bde",
    "outputId": "25bd440a-2b80-408e-8ca7-14ce48ea7a26"
   },
   "outputs": [
    {
     "data": {
      "text/plain": [
       "DeviceArray([[ 11.,  20.,  29.],\n",
       "             [ 44.,  80., 116.]], dtype=float32)"
      ]
     },
     "execution_count": 101,
     "metadata": {},
     "output_type": "execute_result"
    }
   ],
   "source": [
    "jitted_batch_convolve = jax.jit(auto_batch_convolve)\n",
    "\n",
    "jitted_batch_convolve(xs, ws)\n",
    "\n"
   ]
  },
  {
   "cell_type": "markdown",
   "id": "a101d5f4-fda8-4efc-9196-30d09413b3e9",
   "metadata": {
    "id": "a101d5f4-fda8-4efc-9196-30d09413b3e9"
   },
   "source": [
    "## 2 - Gradients and autodiff\n",
    "\n",
    "For a full overview of JAX's automatic differentiation system, you can check the [Autodiff Cookbook](https://jax.readthedocs.io/en/latest/notebooks/autodiff_cookbook.html).\n",
    "\n",
    "### 2.1 - Gradients\n",
    "\n",
    "JAX provides first-class support for gradients and automatic differentiation in functions. This is also where the functional paradigm shines, since gradients on functions are essentially stateless operations. If we consider a simple function $f:\\mathbb{R}^n\\rightarrow\\mathbb{R}$\n",
    "\n",
    "$$f(x) = \\frac{1}{2} x^T x$$\n",
    "\n",
    "with the (known) gradient:\n",
    "$$\\nabla f(x) = x$$"
   ]
  },
  {
   "cell_type": "code",
   "execution_count": 102,
   "id": "7b2d737c-0d66-4664-a3dd-ab848b15d284",
   "metadata": {
    "colab": {
     "base_uri": "https://localhost:8080/"
    },
    "id": "7b2d737c-0d66-4664-a3dd-ab848b15d284",
    "outputId": "48a6f005-dc42-4b6c-ad77-dbdb008920e4"
   },
   "outputs": [
    {
     "name": "stdout",
     "output_type": "stream",
     "text": [
      "[1. 1. 1. 1.]\n",
      "2.0\n"
     ]
    }
   ],
   "source": [
    "def f(x):\n",
    "    return jnp.dot(x.T,x)/2.0\n",
    "\n",
    "v = jnp.ones((4,))\n",
    "print(v)\n",
    "print(f(v))"
   ]
  },
  {
   "cell_type": "markdown",
   "id": "c4b2822b-01c4-48ae-9eff-2297dcff908b",
   "metadata": {
    "id": "c4b2822b-01c4-48ae-9eff-2297dcff908b"
   },
   "source": [
    "JAX computes the gradient as an operator acting on functions with `jax.grad`. Note that this only works for scalar valued functions.\n",
    "\n",
    "Let's take the gradient of f and make sure it matches the identity map."
   ]
  },
  {
   "cell_type": "code",
   "execution_count": 103,
   "id": "39147a68-0567-461d-9045-911e2a915db9",
   "metadata": {
    "id": "39147a68-0567-461d-9045-911e2a915db9"
   },
   "outputs": [],
   "source": [
    "grad_f = jax.grad(f)"
   ]
  },
  {
   "cell_type": "code",
   "execution_count": 104,
   "id": "eeb43519-b228-4b27-873d-9f3d6e5bcb6c",
   "metadata": {
    "colab": {
     "base_uri": "https://localhost:8080/"
    },
    "id": "eeb43519-b228-4b27-873d-9f3d6e5bcb6c",
    "outputId": "cf806da5-f93f-4f37-97d6-c49949e92a52"
   },
   "outputs": [
    {
     "name": "stdout",
     "output_type": "stream",
     "text": [
      "Gradient of f taken at point v\n",
      "[1. 1. 1. 1.]\n"
     ]
    }
   ],
   "source": [
    "print(\"Gradient of f taken at point v\")\n",
    "print(grad_f(v)) # should be equal to v !"
   ]
  },
  {
   "cell_type": "markdown",
   "id": "98d00b7f-de4a-4552-b768-ca99498b3273",
   "metadata": {
    "id": "98d00b7f-de4a-4552-b768-ca99498b3273"
   },
   "source": [
    "We can inspect the tape by using `jax.make_jaxpr(my_function)(input)`.\n",
    "This substitutes to the inputs equivalent tapes, records every operation, and then\n",
    "prints it.\n",
    "\n",
    "In this intermediate representation (IR), every 'variable' is assigned only once and there is only one operation per 'line'.\n",
    "\n",
    " - The first line lists the inputs (in this case we have only one input, 'a', which we know is a vector.\n",
    " - The second line says that 'b' is obtained by doing `dot_general(a,a)`, which is the generic operation corresponding to dot product\n",
    " - The third line says that `c` is obtained by dividing `b` by `2.0`\n",
    " - The last line says that `c` should be returned."
   ]
  },
  {
   "cell_type": "code",
   "execution_count": 105,
   "id": "b68ceb09-c335-42fe-adc8-682e6a947f60",
   "metadata": {
    "colab": {
     "base_uri": "https://localhost:8080/"
    },
    "id": "b68ceb09-c335-42fe-adc8-682e6a947f60",
    "outputId": "87c644e3-adb0-4263-eba2-52c3fc440e24"
   },
   "outputs": [
    {
     "data": {
      "text/plain": [
       "{ lambda ; a:f32[4]. let\n",
       "    b:f32[] = dot_general[\n",
       "      dimension_numbers=(((0,), (0,)), ((), ()))\n",
       "      precision=None\n",
       "      preferred_element_type=None\n",
       "    ] a a\n",
       "    c:f32[] = div b 2.0\n",
       "  in (c,) }"
      ]
     },
     "execution_count": 105,
     "metadata": {},
     "output_type": "execute_result"
    }
   ],
   "source": [
    "jax.make_jaxpr(f)(v)"
   ]
  },
  {
   "cell_type": "markdown",
   "id": "d56b37b0-34e4-4476-abfe-ac1fdd407afc",
   "metadata": {
    "id": "d56b37b0-34e4-4476-abfe-ac1fdd407afc"
   },
   "source": [
    "We can also inspect the IR of the gradient of f, in much the same way.\n",
    "Grad does backward differentiation, so it first executes the `forward pass` or the function itself, and then _pulls back_ a value of `1.0` with the jacobian of the function.\n",
    "\n",
    "The first 3 lines are equivalent to the previous function, however, the following lines are interesting.\n",
    "\n",
    "*They can be thought of as executing the tape backwards by replacing every operation with its adjoint/pullback.*\n",
    "\n",
    " - Line 4: (adjoint of c=b/2) take the sensitivity input `1.0` (adjoint of the output) and multiply it by 2. `c=1.0/2`\n",
    " - Line 5: `d = c * a`\n",
    " - Line 6: `e = c * a`\n",
    " - Line 7 : return `d+e`"
   ]
  },
  {
   "cell_type": "code",
   "execution_count": 106,
   "id": "1a3fbff2-78a9-437d-becb-d120e499d9d5",
   "metadata": {
    "colab": {
     "base_uri": "https://localhost:8080/"
    },
    "id": "1a3fbff2-78a9-437d-becb-d120e499d9d5",
    "outputId": "fb0f7b7c-4370-4d34-8425-05d9edd6eb88"
   },
   "outputs": [
    {
     "data": {
      "text/plain": [
       "{ lambda ; a:f32[4]. let\n",
       "    b:f32[] = dot_general[\n",
       "      dimension_numbers=(((0,), (0,)), ((), ()))\n",
       "      precision=None\n",
       "      preferred_element_type=None\n",
       "    ] a a\n",
       "    _:f32[] = div b 2.0\n",
       "    c:f32[] = div 1.0 2.0\n",
       "    d:f32[4] = dot_general[\n",
       "      dimension_numbers=(((), ()), ((), ()))\n",
       "      precision=None\n",
       "      preferred_element_type=None\n",
       "    ] c a\n",
       "    e:f32[4] = dot_general[\n",
       "      dimension_numbers=(((), ()), ((), ()))\n",
       "      precision=None\n",
       "      preferred_element_type=None\n",
       "    ] c a\n",
       "    f:f32[4] = add_any e d\n",
       "  in (f,) }"
      ]
     },
     "execution_count": 106,
     "metadata": {},
     "output_type": "execute_result"
    }
   ],
   "source": [
    "jax.make_jaxpr(jax.grad(f))(v)"
   ]
  },
  {
   "cell_type": "code",
   "execution_count": null,
   "id": "f46e785d-3f97-4f6e-8100-7de855cc4388",
   "metadata": {
    "id": "f46e785d-3f97-4f6e-8100-7de855cc4388",
    "outputId": "7b65e7cd-9791-4edc-adf3-6a581c6e514a"
   },
   "outputs": [
    {
     "data": {
      "text/plain": [
       "DeviceArray(2., dtype=float32)"
      ]
     },
     "execution_count": 293,
     "metadata": {},
     "output_type": "execute_result"
    }
   ],
   "source": [
    "jax.grad(f)(2.0)"
   ]
  },
  {
   "cell_type": "code",
   "execution_count": 107,
   "id": "7b8acbec-6067-4b57-8761-424e2ef1f2b3",
   "metadata": {
    "id": "7b8acbec-6067-4b57-8761-424e2ef1f2b3"
   },
   "outputs": [],
   "source": [
    "z = 1.0\n",
    "\n",
    "@jax.jit\n",
    "def f(x):\n",
    "    y = x*x\n",
    "    return y*z "
   ]
  },
  {
   "cell_type": "code",
   "execution_count": 108,
   "id": "389474bc-cea2-4dec-85e0-259f4a3b274b",
   "metadata": {
    "colab": {
     "base_uri": "https://localhost:8080/"
    },
    "id": "389474bc-cea2-4dec-85e0-259f4a3b274b",
    "outputId": "e071f612-7c55-49b0-b190-3825050c10cf"
   },
   "outputs": [
    {
     "data": {
      "text/plain": [
       "DeviceArray(2., dtype=float32, weak_type=True)"
      ]
     },
     "execution_count": 108,
     "metadata": {},
     "output_type": "execute_result"
    }
   ],
   "source": [
    "z = 2.0\n",
    "f(1)"
   ]
  },
  {
   "cell_type": "markdown",
   "id": "edc8b058-cf64-44bc-ae61-92d488eca41a",
   "metadata": {
    "id": "edc8b058-cf64-44bc-ae61-92d488eca41a"
   },
   "source": [
    "## Going deeper\n",
    " \n",
    "Let's assume a more complicated example: consider a variational function $f : \\mathbb{R}^M -> \\mathbb{R}^N$, which takes as input a set of parameters $W$ and gives out a vector $\\vec{v}=\\vec{f}(W)$.\n",
    "\n",
    "Now, given the matrix $A\\in \\mathbb{R}^N\\times\\mathbb{R}^N$, assume we want to minimise the loss\n",
    "\n",
    "$$\n",
    "\\mathcal{L}(W) = \\vec{v}^T A \\vec{v} = \\vec{f}^T(W) A \\vec{f}(W)\n",
    "$$\n",
    "\n",
    "We can define the Jacobian $\\mathbb{R}^M \\times \\mathbb{R}^N \\ni J_{f}|_W = df(W)/dW$ \n",
    "The gradient of this function will be \n",
    "\n",
    "$$\\nabla_W \\mathcal{L}(W) = 2 J_f|_W A$$"
   ]
  },
  {
   "cell_type": "markdown",
   "id": "PVkj9bOf3tH1",
   "metadata": {
    "id": "PVkj9bOf3tH1"
   },
   "source": [
    "Even though, theoretically, a VJP (Vector-Jacobian product - reverse autodiff) and a JVP (Jacobian-Vector product - forward-mode autodiff) are similar—they compute a product of a Jacobian and a vector—they differ by the computational complexity of the operation. In short, when you have a large number of parameters (hence a wide matrix), a JVP is less efficient computationally than a VJP, and, conversely, a JVP is more efficient when the Jacobian matrix is a tall matrix. You can read more in the JAX [cookbook](https://jax.readthedocs.io/en/latest/notebooks/autodiff_cookbook.html#jacobian-vector-products-jvps-aka-forward-mode-autodiff) [notebook](https://jax.readthedocs.io/en/latest/notebooks/autodiff_cookbook.html#vector-jacobian-products-vjps-aka-reverse-mode-autodiff) mentioned above."
   ]
  },
  {
   "cell_type": "markdown",
   "id": "864bdb5e-d3fb-4ef6-ba8e-78ba0c15e048",
   "metadata": {
    "id": "864bdb5e-d3fb-4ef6-ba8e-78ba0c15e048"
   },
   "source": [
    "## 3 - Linear Regression in Jax\n",
    "\n",
    "Let's implement one of the simplest models using everything we have seen so far: a linear regression. From a set of data points $\\{(x_i,y_i), i\\in \\{1,\\ldots, k\\}, x_i\\in\\mathbb{R}^n,y_i\\in\\mathbb{R}^m\\}$, we try to find a set of parameters $W\\in \\mathcal{M}_{m,n}(\\mathbb{R}), b\\in\\mathbb{R}^m$ such that the function $f_{W,b}(x)=Wx+b$ minimizes the mean squared error:\n",
    "$$\\mathcal{L}(W,b)\\rightarrow\\frac{1}{k}\\sum_{i=1}^{k} \\frac{1}{2}\\|y_i-f_{W,b}(x_i)\\|^2_2$$\n",
    "\n",
    "(Note: depending on how you cast the regression problem you might end up with different setups. Theoretically we should be minimizing the expectation of the loss wrt to the data distribution, however for the sake of simplicity here we consider only the sampled loss)."
   ]
  },
  {
   "cell_type": "code",
   "execution_count": 74,
   "id": "695d6d71-914d-4865-8af0-d82d7b2623b0",
   "metadata": {
    "id": "695d6d71-914d-4865-8af0-d82d7b2623b0"
   },
   "outputs": [],
   "source": [
    "from matplotlib import pyplot as plt \n",
    "\n",
    "from sklearn.datasets import make_regression\n",
    "from sklearn.model_selection import train_test_split"
   ]
  },
  {
   "cell_type": "code",
   "execution_count": 75,
   "id": "eaf8a1a9-a843-40cb-8b04-44b6ced35f6a",
   "metadata": {
    "colab": {
     "base_uri": "https://localhost:8080/"
    },
    "id": "eaf8a1a9-a843-40cb-8b04-44b6ced35f6a",
    "outputId": "a1e8c457-c0bc-46a3-8684-d169dc676910"
   },
   "outputs": [
    {
     "name": "stdout",
     "output_type": "stream",
     "text": [
      "x shape is: (100, 1)\n",
      "y shape is: (100, 1)\n"
     ]
    }
   ],
   "source": [
    "in_dimension = 1\n",
    "out_dimension = 1\n",
    "\n",
    "x, y = make_regression(n_samples=100, \n",
    "                       n_features=in_dimension, \n",
    "                       n_targets=out_dimension, \n",
    "                       noise=10)\n",
    "y = y / jnp.sqrt(jnp.mean(jnp.square(y)))\n",
    "print(f\"x shape is: {x.shape}\")\n",
    "print(f\"y shape is: {x.shape}\")"
   ]
  },
  {
   "cell_type": "code",
   "execution_count": 76,
   "id": "6074c084-8e70-44d8-970d-c87b86c1cc14",
   "metadata": {
    "colab": {
     "base_uri": "https://localhost:8080/",
     "height": 282
    },
    "id": "6074c084-8e70-44d8-970d-c87b86c1cc14",
    "outputId": "74a1876c-b094-44f8-d59f-eccec21cf28d"
   },
   "outputs": [
    {
     "data": {
      "text/plain": [
       "[<matplotlib.lines.Line2D at 0x7f4836664b50>]"
      ]
     },
     "execution_count": 76,
     "metadata": {},
     "output_type": "execute_result"
    },
    {
     "data": {
      "image/png": "[encoded data removed]",
      "text/plain": [
       "<Figure size 432x288 with 1 Axes>"
      ]
     },
     "metadata": {
      "needs_background": "light"
     },
     "output_type": "display_data"
    }
   ],
   "source": [
    "plt.plot(x,y, '*')"
   ]
  },
  {
   "cell_type": "code",
   "execution_count": 77,
   "id": "aadfe041-a420-4c14-837f-aa020e960a77",
   "metadata": {
    "colab": {
     "base_uri": "https://localhost:8080/"
    },
    "id": "aadfe041-a420-4c14-837f-aa020e960a77",
    "outputId": "9c09f379-6e32-4eef-efb2-d2407ac09845"
   },
   "outputs": [
    {
     "name": "stdout",
     "output_type": "stream",
     "text": [
      "{'z': DeviceArray([0.], dtype=float32), 'w': DeviceArray([0.], dtype=float32), 'b': DeviceArray(0., dtype=float32, weak_type=True)}\n"
     ]
    }
   ],
   "source": [
    "# let's try to fit this with a line\n",
    "params = {\n",
    "    'z': jnp.zeros(x.shape[1:]),\n",
    "    'w': jnp.zeros(x.shape[1:]),\n",
    "    'b': jnp.array(0.)\n",
    "}\n",
    "\n",
    "print(params)\n",
    "\n",
    "def approxfun(params, x):\n",
    "    return jnp.dot(x, params['w']) + params['b'] + jnp.dot(x**2, params['z'])\n"
   ]
  },
  {
   "cell_type": "code",
   "execution_count": 78,
   "id": "1f31247a-d9de-42fb-b171-bf99878e0cdc",
   "metadata": {
    "colab": {
     "base_uri": "https://localhost:8080/",
     "height": 282
    },
    "id": "1f31247a-d9de-42fb-b171-bf99878e0cdc",
    "outputId": "83ce48c7-11f7-451c-96a8-ebe73ce05e95"
   },
   "outputs": [
    {
     "data": {
      "text/plain": [
       "[<matplotlib.lines.Line2D at 0x7f4833bbd7d0>]"
      ]
     },
     "execution_count": 78,
     "metadata": {},
     "output_type": "execute_result"
    },
    {
     "data": {
      "image/png": "[encoded data removed]",
      "text/plain": [
       "<Figure size 432x288 with 1 Axes>"
      ]
     },
     "metadata": {
      "needs_background": "light"
     },
     "output_type": "display_data"
    }
   ],
   "source": [
    "# generate all points in an interval\n",
    "_xpts = jnp.linspace(-2,2,10)\n",
    "plt.plot(_xpts, jax.vmap(approxfun, in_axes=(None, 0))(params, _xpts))\n",
    "plt.plot(x,y, '*')"
   ]
  },
  {
   "cell_type": "markdown",
   "id": "b7555184-5cb8-47d5-ba5c-ae85d360c8d4",
   "metadata": {
    "id": "b7555184-5cb8-47d5-ba5c-ae85d360c8d4"
   },
   "source": [
    "Let's try to define the function we want to optimise\n",
    "\n",
    "$$\\mathcal{L}(W,b)\\rightarrow\\frac{1}{k}\\sum_{i=1}^{k} \\frac{1}{2}\\|y_i-f_{W,b}(x_i)\\|^2_2$$"
   ]
  },
  {
   "cell_type": "code",
   "execution_count": 79,
   "id": "a124d6cc-aad3-47ea-88a1-74a80ebdb8d4",
   "metadata": {
    "id": "a124d6cc-aad3-47ea-88a1-74a80ebdb8d4"
   },
   "outputs": [],
   "source": [
    "def loss_fn(params, xs, ys):\n",
    "    \n",
    "    # function returning squared error of a single datapoint\n",
    "    def squared_error(x,y):\n",
    "          y_pred = approxfun(params, x)\n",
    "          return jnp.square(y-y_pred)/2.0\n",
    "    \n",
    "    squared_error_vmap = jax.vmap(squared_error)\n",
    "    return jnp.mean(squared_error_vmap(xs, ys), axis=0)"
   ]
  },
  {
   "cell_type": "code",
   "execution_count": 80,
   "id": "2f02163e-2b4c-4dd2-8a92-eaea7dd3609b",
   "metadata": {
    "id": "2f02163e-2b4c-4dd2-8a92-eaea7dd3609b"
   },
   "outputs": [],
   "source": [
    "grad_fn = jax.jit(jax.grad(loss_fn, argnums=0))"
   ]
  },
  {
   "cell_type": "code",
   "execution_count": 81,
   "id": "dc0bca1b-0366-4f43-9438-9f0403ff2d3a",
   "metadata": {
    "id": "dc0bca1b-0366-4f43-9438-9f0403ff2d3a"
   },
   "outputs": [],
   "source": [
    "# we pick a gradient-descent step size\n",
    "learning_rate = 0.01\n",
    "\n",
    "# A list to hold our loss value as a function of iteration\n",
    "loss_history = []\n",
    "\n",
    "for _ in range(200):\n",
    "    loss = loss_fn(params, x, y)\n",
    "    loss_history.append(loss)\n",
    "\n",
    "    grads = grad_fn(params, x, y)\n",
    "    params['w'] = params['w'] - learning_rate * grads['w']\n",
    "    params['b'] = params['b'] - learning_rate * grads['b']\n",
    "    params['z'] = params['z'] - learning_rate * grads['z']\n",
    "\n"
   ]
  },
  {
   "cell_type": "code",
   "execution_count": 82,
   "id": "958b4d9c-7ad9-49b8-82fc-0830ed18bc44",
   "metadata": {
    "colab": {
     "base_uri": "https://localhost:8080/",
     "height": 296
    },
    "id": "958b4d9c-7ad9-49b8-82fc-0830ed18bc44",
    "outputId": "1f2c9ca6-9544-4af5-a691-e2f12bab7fca"
   },
   "outputs": [
    {
     "data": {
      "text/plain": [
       "Text(0, 0.5, 'Loss value')"
      ]
     },
     "execution_count": 82,
     "metadata": {},
     "output_type": "execute_result"
    },
    {
     "data": {
      "image/png": "[encoded data removed]",
      "text/plain": [
       "<Figure size 432x288 with 1 Axes>"
      ]
     },
     "metadata": {
      "needs_background": "light"
     },
     "output_type": "display_data"
    }
   ],
   "source": [
    "plt.plot(loss_history)\n",
    "plt.xlabel(\"Iteration\")\n",
    "plt.ylabel(\"Loss value\")"
   ]
  },
  {
   "cell_type": "code",
   "execution_count": 83,
   "id": "5a334255-55a1-4bd2-86d9-0c0d5cdc3555",
   "metadata": {
    "colab": {
     "base_uri": "https://localhost:8080/",
     "height": 282
    },
    "id": "5a334255-55a1-4bd2-86d9-0c0d5cdc3555",
    "outputId": "e2511c17-8927-4623-ec9f-44b1de796b83"
   },
   "outputs": [
    {
     "data": {
      "text/plain": [
       "[<matplotlib.lines.Line2D at 0x7f4833ac6f90>]"
      ]
     },
     "execution_count": 83,
     "metadata": {},
     "output_type": "execute_result"
    },
    {
     "data": {
      "image/png": "[encoded data removed]",
      "text/plain": [
       "<Figure size 432x288 with 1 Axes>"
      ]
     },
     "metadata": {
      "needs_background": "light"
     },
     "output_type": "display_data"
    }
   ],
   "source": [
    "# generate all points in an interval\n",
    "_xpts = jnp.linspace(-2,2,10)\n",
    "plt.plot(_xpts, jax.vmap(approxfun, in_axes=(None, 0))(params, _xpts))\n",
    "plt.plot(x,y, '*')"
   ]
  },
  {
   "cell_type": "markdown",
   "id": "26c0ac38-5f78-4000-8160-2b33d8f830c6",
   "metadata": {
    "id": "26c0ac38-5f78-4000-8160-2b33d8f830c6"
   },
   "source": [
    "## 3.1 Interlude: Working with PyTrees\n",
    "\n",
    "You've seen that we have stored the parameters of our NN into a dictionary with many elements inside"
   ]
  },
  {
   "cell_type": "code",
   "execution_count": null,
   "id": "203d6a3e-3a46-45e0-b1f8-eb99d86e5315",
   "metadata": {
    "id": "203d6a3e-3a46-45e0-b1f8-eb99d86e5315",
    "outputId": "2ae4d2bd-a474-4e0f-ebd9-46ccae2dfaa5"
   },
   "outputs": [
    {
     "name": "stdout",
     "output_type": "stream",
     "text": [
      "{'z': DeviceArray([-0.04163698], dtype=float32), 'w': DeviceArray([0.24668004], dtype=float32), 'b': DeviceArray(0.05511921, dtype=float32, weak_type=True)}\n"
     ]
    }
   ],
   "source": [
    "print(params)"
   ]
  },
  {
   "cell_type": "markdown",
   "id": "940608e7-9fbb-43e8-9f61-0e36322ba40a",
   "metadata": {
    "id": "940608e7-9fbb-43e8-9f61-0e36322ba40a"
   },
   "source": [
    "Now, imagine I want to create a copy of those parameters where all are initialized at 0. How do I do that?"
   ]
  },
  {
   "cell_type": "code",
   "execution_count": null,
   "id": "d8076862-1da8-425c-9754-431c8b947d06",
   "metadata": {
    "id": "d8076862-1da8-425c-9754-431c8b947d06",
    "outputId": "d42ae55f-7cb7-4dd1-cb5f-4a759923b4d8"
   },
   "outputs": [
    {
     "name": "stdout",
     "output_type": "stream",
     "text": [
      "{'z': DeviceArray([0.], dtype=float32), 'w': DeviceArray([0.], dtype=float32), 'b': DeviceArray(0., dtype=float32, weak_type=True)}\n"
     ]
    }
   ],
   "source": [
    "params_zero = {'z': jnp.zeros_like(params['z']), \n",
    "               'w': jnp.zeros_like(params['w']), \n",
    "               'b': jnp.zeros_like(params['b'])}\n",
    "\n",
    "print(params_zero)"
   ]
  },
  {
   "cell_type": "markdown",
   "id": "e6bac889-52ec-4b56-9762-57453615144a",
   "metadata": {
    "id": "e6bac889-52ec-4b56-9762-57453615144a"
   },
   "source": [
    "But If I now change the structure of my parameters I have to change all my code...\n",
    "Is there a better way? \n",
    "\n",
    "Yes. With a loop?"
   ]
  },
  {
   "cell_type": "code",
   "execution_count": null,
   "id": "186ac32b-f2b1-4871-9a8b-c6d1a2c358b5",
   "metadata": {
    "id": "186ac32b-f2b1-4871-9a8b-c6d1a2c358b5",
    "outputId": "f2f7612f-6ebc-4198-cc88-27e75181c0d8"
   },
   "outputs": [
    {
     "name": "stdout",
     "output_type": "stream",
     "text": [
      "{'z': DeviceArray([0.], dtype=float32), 'w': DeviceArray([0.], dtype=float32), 'b': DeviceArray(0., dtype=float32, weak_type=True)}\n"
     ]
    }
   ],
   "source": [
    "params_zero = {}\n",
    "for par_name in params.keys():\n",
    "    params_zero[par_name] = jnp.zeros_like(params[par_name])\n",
    "    \n",
    "print(params_zero)"
   ]
  },
  {
   "cell_type": "markdown",
   "id": "95be12d8-ffa2-4dd1-b834-04440193e5aa",
   "metadata": {
    "id": "95be12d8-ffa2-4dd1-b834-04440193e5aa"
   },
   "source": [
    "But this changes if we now nest those dictionaries!\n",
    "Try to run the code above with"
   ]
  },
  {
   "cell_type": "code",
   "execution_count": null,
   "id": "75370165-f1b9-490f-bbcd-36c4db54088e",
   "metadata": {
    "id": "75370165-f1b9-490f-bbcd-36c4db54088e"
   },
   "outputs": [],
   "source": [
    "params_new = {'layer_0':params}"
   ]
  },
  {
   "cell_type": "markdown",
   "id": "d0d8aee9-5d7b-4bae-a062-790285548882",
   "metadata": {
    "id": "d0d8aee9-5d7b-4bae-a062-790285548882"
   },
   "source": [
    "it will crash.\n",
    "Jax calls those objects \"PyTrees\", which are nested dictionaries containing, eventually, arrays.\n",
    "You can write a code equivalent to the above but that works for all input pytrees."
   ]
  },
  {
   "cell_type": "code",
   "execution_count": null,
   "id": "880d5ea1-908d-4ceb-aa80-a4f6b52ffd64",
   "metadata": {
    "id": "880d5ea1-908d-4ceb-aa80-a4f6b52ffd64",
    "outputId": "f1bf8f1c-b46d-4d49-c881-0c28ba02b750"
   },
   "outputs": [
    {
     "data": {
      "text/plain": [
       "{'b': DeviceArray(0., dtype=float32, weak_type=True),\n",
       " 'w': DeviceArray([0.], dtype=float32),\n",
       " 'z': DeviceArray([0.], dtype=float32)}"
      ]
     },
     "execution_count": 187,
     "metadata": {},
     "output_type": "execute_result"
    }
   ],
   "source": [
    "jax.tree_map(jnp.zeros_like, params)"
   ]
  },
  {
   "cell_type": "markdown",
   "id": "3b8637d8-9ca8-45b4-9648-dc22bdec530f",
   "metadata": {
    "id": "3b8637d8-9ca8-45b4-9648-dc22bdec530f"
   },
   "source": [
    "And what If I want to sum two sets of parameters? Let's say we have `pars_1` and `pars_2`"
   ]
  },
  {
   "cell_type": "code",
   "execution_count": null,
   "id": "39f461d8-21a6-4e71-93d7-fba6cd97d511",
   "metadata": {
    "id": "39f461d8-21a6-4e71-93d7-fba6cd97d511"
   },
   "outputs": [],
   "source": [
    "pars_1 = jax.tree_map(jnp.zeros_like, params)\n",
    "pars_2 = jax.tree_map(jnp.ones_like, params)"
   ]
  },
  {
   "cell_type": "code",
   "execution_count": null,
   "id": "f465546e-9115-4079-8921-6d55e1c2eacb",
   "metadata": {
    "id": "f465546e-9115-4079-8921-6d55e1c2eacb",
    "outputId": "25c969c1-6a14-44f2-e960-c42790d9dfcb"
   },
   "outputs": [
    {
     "name": "stdout",
     "output_type": "stream",
     "text": [
      "{'z': DeviceArray([1.], dtype=float32), 'w': DeviceArray([1.], dtype=float32), 'b': DeviceArray(1., dtype=float32, weak_type=True)}\n"
     ]
    }
   ],
   "source": [
    "def oneplustwo(a1,a2):\n",
    "    return a1+a2\n",
    "\n",
    "params_1p2 = {}\n",
    "for par_name in params.keys():\n",
    "    params_1p2[par_name] = oneplustwo(pars_1[par_name], pars_2[par_name])\n",
    "    \n",
    "print(params_1p2)"
   ]
  },
  {
   "cell_type": "markdown",
   "id": "b017552a-2c83-4f01-9823-cb1c2d04704e",
   "metadata": {
    "id": "b017552a-2c83-4f01-9823-cb1c2d04704e"
   },
   "source": [
    "This can be condensed into a much more 'terse' language with the following:"
   ]
  },
  {
   "cell_type": "code",
   "execution_count": null,
   "id": "06b2d9ef-e48c-4758-9237-a0a433d22442",
   "metadata": {
    "id": "06b2d9ef-e48c-4758-9237-a0a433d22442",
    "outputId": "b410d34f-30d5-4976-aa65-a3469716cf5e"
   },
   "outputs": [
    {
     "data": {
      "text/plain": [
       "{'b': DeviceArray(1., dtype=float32, weak_type=True),\n",
       " 'w': DeviceArray([1.], dtype=float32),\n",
       " 'z': DeviceArray([1.], dtype=float32)}"
      ]
     },
     "execution_count": 191,
     "metadata": {},
     "output_type": "execute_result"
    }
   ],
   "source": [
    "jax.tree_map(oneplustwo, pars_1, pars_2)"
   ]
  },
  {
   "cell_type": "markdown",
   "id": "045c38e9-1949-41c3-9f35-4d57ac58f447",
   "metadata": {
    "id": "045c38e9-1949-41c3-9f35-4d57ac58f447"
   },
   "source": [
    "## 3.1 - Linear Regression in Jax with Flax!\n",
    "\n",
    "In the previous example we had to define by hand the parameters and our _model_.\n",
    "Once we start using complicated models such as neural networks we don't want to do this by hand, but we want a library to do it for us.\n",
    "\n",
    "We will be using [Flax](https://github.com/google/flax), which is a Jax-compatible library for doing so.\n",
    "I chose this one because it is functional and immutable, so it is easier to reason about, however if you prefer object-oriented way-of thinking (😭) you're free to use [Haiku](https://github.com/deepmind/dm-haiku), [objax](https://objax.readthedocs.io) or many others.\n"
   ]
  },
  {
   "cell_type": "code",
   "execution_count": 66,
   "id": "fb882956-09ed-43ee-ad20-4159c5719256",
   "metadata": {
    "id": "fb882956-09ed-43ee-ad20-4159c5719256"
   },
   "outputs": [],
   "source": [
    "import flax\n",
    "import flax.linen as nn"
   ]
  },
  {
   "cell_type": "markdown",
   "id": "ef2e3efe-b415-4d14-af1e-6c644a6b2f0e",
   "metadata": {
    "id": "ef2e3efe-b415-4d14-af1e-6c644a6b2f0e"
   },
   "source": [
    "A model in flax is defined as follows.\n",
    "Take the following as *boilerplate*, there's not much to understand. \n",
    "If you want to understand it better and see more advanced features, check out [flax documentation](https://flax.readthedocs.io/en/latest/howtos/model_surgery.html)."
   ]
  },
  {
   "cell_type": "markdown",
   "id": "91c5df9c-c229-4d40-83c7-5e3cb4cb09ef",
   "metadata": {
    "id": "91c5df9c-c229-4d40-83c7-5e3cb4cb09ef"
   },
   "source": [
    "$$ D : \\mathbb{R}^N \\rightarrow \\mathbb{R}^M $$\n",
    "\n",
    "$$ D(x) = W x + b $$"
   ]
  },
  {
   "cell_type": "code",
   "execution_count": 84,
   "id": "6aa9bc73-0aee-4117-914b-418ed77d0abc",
   "metadata": {
    "id": "6aa9bc73-0aee-4117-914b-418ed77d0abc"
   },
   "outputs": [],
   "source": [
    "# A Flax model must be a class sub-classing nn.Module\n",
    "class linear_model(nn.Module):\n",
    "    # We can define parameters of the module as fields of the class like this:\n",
    "    in_dimension: int\n",
    "    out_dimension: int\n",
    "\n",
    "    # The body of the model must be defined using the `@nn.compact` decorator.\n",
    "    # Just think of it as boilerplate, and if you are curious, check out\n",
    "    # Flax documentation\n",
    "    @nn.compact\n",
    "    def __call__(self, x):\n",
    "        \"\"\"\n",
    "        This function should evaluate the result of the model for an input x and output the prediction.\n",
    "        \"\"\"\n",
    "        x = x.reshape(-1, self.in_dimension)\n",
    "        dense_layer = nn.Dense(features=self.out_dimension)\n",
    "        return dense_layer(x)"
   ]
  },
  {
   "cell_type": "markdown",
   "id": "c580b7ec-e0cd-4558-8af5-db32bc45022e",
   "metadata": {
    "id": "c580b7ec-e0cd-4558-8af5-db32bc45022e"
   },
   "source": [
    "Let's initialize the model:\n",
    " \n",
    " - We need a seed for the RNG that generates the initial weights\n",
    " - We need a sample input"
   ]
  },
  {
   "cell_type": "code",
   "execution_count": 85,
   "id": "72da4310-55b9-4483-88ba-59914d65e216",
   "metadata": {
    "id": "72da4310-55b9-4483-88ba-59914d65e216"
   },
   "outputs": [],
   "source": [
    "seed = 123\n",
    "\n",
    "model = linear_model(in_dimension=1, out_dimension=1)\n",
    "\n",
    "key = jax.random.PRNGKey(seed)\n",
    "sample_input = jnp.ones([1])\n",
    "\n",
    "pars = model.init(key, sample_input)"
   ]
  },
  {
   "cell_type": "markdown",
   "id": "ab0f12a2-d818-4395-9b34-0a6dfa4b563b",
   "metadata": {
    "id": "ab0f12a2-d818-4395-9b34-0a6dfa4b563b"
   },
   "source": [
    "We can inspect the parameters.\n",
    "Flax stores them in a `PyTree`, a tree-structure of nested containers (dictionaries, lists and tuples) where the only leaf-nodes are jax.numpy tensors."
   ]
  },
  {
   "cell_type": "code",
   "execution_count": 86,
   "id": "851548b7-2bf5-4e33-8ca0-dde4be591922",
   "metadata": {
    "colab": {
     "base_uri": "https://localhost:8080/"
    },
    "id": "851548b7-2bf5-4e33-8ca0-dde4be591922",
    "outputId": "1b66a545-3e1e-4e56-d02c-1b57ccefa1d5"
   },
   "outputs": [
    {
     "data": {
      "text/plain": [
       "FrozenDict({\n",
       "    params: {\n",
       "        Dense_0: {\n",
       "            kernel: DeviceArray([[1.2836052]], dtype=float32),\n",
       "            bias: DeviceArray([0.], dtype=float32),\n",
       "        },\n",
       "    },\n",
       "})"
      ]
     },
     "execution_count": 86,
     "metadata": {},
     "output_type": "execute_result"
    }
   ],
   "source": [
    "pars"
   ]
  },
  {
   "cell_type": "markdown",
   "id": "e2fd29f9-15c0-431b-b0ed-3cd5988d8fe0",
   "metadata": {
    "id": "e2fd29f9-15c0-431b-b0ed-3cd5988d8fe0"
   },
   "source": [
    "To evaluate the Flax model, we need to use the `model.apply` syntax:"
   ]
  },
  {
   "cell_type": "code",
   "execution_count": 87,
   "id": "48e93869-cb2b-4e0c-b981-fb63c11b820c",
   "metadata": {
    "colab": {
     "base_uri": "https://localhost:8080/"
    },
    "id": "48e93869-cb2b-4e0c-b981-fb63c11b820c",
    "outputId": "d32f5eff-5a80-45af-fb2e-0f9934fc9652"
   },
   "outputs": [
    {
     "data": {
      "text/plain": [
       "DeviceArray([[-0.2646    ],\n",
       "             [-2.8232899 ],\n",
       "             [ 1.6159772 ],\n",
       "             [-0.83323205],\n",
       "             [-0.6580993 ],\n",
       "             [ 0.3324523 ],\n",
       "             [ 1.9780705 ],\n",
       "             [ 0.07749172],\n",
       "             [-0.6175012 ],\n",
       "             [-1.2703913 ],\n",
       "             [ 1.0351317 ],\n",
       "             [ 1.903172  ],\n",
       "             [-0.70493686],\n",
       "             [-0.94143486],\n",
       "             [ 1.5532078 ],\n",
       "             [ 0.7669562 ],\n",
       "             [-1.3654499 ],\n",
       "             [-1.1514066 ],\n",
       "             [ 0.93101084],\n",
       "             [ 2.154091  ],\n",
       "             [-0.16850471],\n",
       "             [-0.23803872],\n",
       "             [ 0.01591618],\n",
       "             [-0.27777734],\n",
       "             [ 0.86202574],\n",
       "             [ 0.43526408],\n",
       "             [-2.513766  ],\n",
       "             [-0.6623083 ],\n",
       "             [-1.1201047 ],\n",
       "             [-0.7167063 ],\n",
       "             [-0.5117011 ],\n",
       "             [ 1.9805696 ],\n",
       "             [ 0.96115017],\n",
       "             [ 0.8564555 ],\n",
       "             [ 0.06152299],\n",
       "             [ 1.7543125 ],\n",
       "             [-1.6461672 ],\n",
       "             [-0.5642557 ],\n",
       "             [ 1.4084634 ],\n",
       "             [-2.9139724 ],\n",
       "             [ 0.7938136 ],\n",
       "             [-0.23652598],\n",
       "             [ 0.41467404],\n",
       "             [ 0.76359004],\n",
       "             [-1.7527603 ],\n",
       "             [ 1.6957464 ],\n",
       "             [-0.6099954 ],\n",
       "             [-0.50997275],\n",
       "             [-1.708475  ],\n",
       "             [ 0.5014459 ],\n",
       "             [-0.48422495],\n",
       "             [-0.90545887],\n",
       "             [-1.6462952 ],\n",
       "             [-0.5303436 ],\n",
       "             [-1.4847907 ],\n",
       "             [-0.61749524],\n",
       "             [ 0.23098642],\n",
       "             [-2.8908422 ],\n",
       "             [ 1.903542  ],\n",
       "             [-1.1066194 ],\n",
       "             [-2.293744  ],\n",
       "             [-1.15959   ],\n",
       "             [ 0.75067735],\n",
       "             [ 0.5599669 ],\n",
       "             [-0.14342082],\n",
       "             [-0.44412962],\n",
       "             [-0.5918819 ],\n",
       "             [ 0.29634684],\n",
       "             [-0.14658834],\n",
       "             [ 0.7707193 ],\n",
       "             [ 0.82102233],\n",
       "             [-0.97527355],\n",
       "             [-0.26844516],\n",
       "             [-0.49035597],\n",
       "             [ 0.68293905],\n",
       "             [-0.6233847 ],\n",
       "             [-0.03398892],\n",
       "             [-1.599325  ],\n",
       "             [-0.8023951 ],\n",
       "             [-0.5090825 ],\n",
       "             [-0.6509568 ],\n",
       "             [ 1.5997342 ],\n",
       "             [ 1.6376855 ],\n",
       "             [ 0.2016502 ],\n",
       "             [ 0.14481738],\n",
       "             [-0.23050092],\n",
       "             [ 0.806422  ],\n",
       "             [-1.473266  ],\n",
       "             [ 1.3641632 ],\n",
       "             [ 0.96173835],\n",
       "             [-0.29948032],\n",
       "             [-0.29177174],\n",
       "             [-1.0308303 ],\n",
       "             [-1.17966   ],\n",
       "             [-0.18245056],\n",
       "             [ 0.43715808],\n",
       "             [-0.80899787],\n",
       "             [-1.1496649 ],\n",
       "             [ 1.0579953 ],\n",
       "             [-0.20084995]], dtype=float32)"
      ]
     },
     "execution_count": 87,
     "metadata": {},
     "output_type": "execute_result"
    }
   ],
   "source": [
    "model.apply(pars, x)"
   ]
  },
  {
   "cell_type": "markdown",
   "id": "5444b0e4-c183-4b5d-9953-f314a2e7ba6a",
   "metadata": {
    "id": "5444b0e4-c183-4b5d-9953-f314a2e7ba6a"
   },
   "source": [
    "So we can rewrite our loss function and training algorithm:"
   ]
  },
  {
   "cell_type": "code",
   "execution_count": 88,
   "id": "dfe6d1e1-a12c-41fd-9b16-f6a47b2a4921",
   "metadata": {
    "id": "dfe6d1e1-a12c-41fd-9b16-f6a47b2a4921"
   },
   "outputs": [],
   "source": [
    "def loss_fn_flax(params, xs, ys):\n",
    "    \n",
    "    # function returning squared error of a single datapoint\n",
    "    def squared_error(x,y):\n",
    "          y_pred = model.apply(params, x)\n",
    "          return jnp.square(y-y_pred)/2.0\n",
    "    \n",
    "    squared_error_vmap = jax.vmap(squared_error)\n",
    "    return jnp.mean(squared_error_vmap(xs, ys))"
   ]
  },
  {
   "cell_type": "code",
   "execution_count": 89,
   "id": "866814e2-8335-4a73-b06b-a00847fcd959",
   "metadata": {
    "id": "866814e2-8335-4a73-b06b-a00847fcd959"
   },
   "outputs": [],
   "source": [
    "# initialize the network and get initial parameters\n",
    "pars = model.init(jax.random.PRNGKey(0), x)[\"params\"]\n",
    "\n",
    "# we pick a gradient-descent step size\n",
    "learning_rate = 0.5\n",
    "\n",
    "# A list to hold our loss value as a function of iteration\n",
    "loss_history = []\n",
    "\n",
    "# the gradient function\n",
    "grad_fn = jax.jit(jax.grad(loss_fn_flax))\n",
    "\n",
    "for _ in range(20):\n",
    "    loss = loss_fn_flax({\"params\": pars}, x, y)\n",
    "    loss_history.append(loss)\n",
    "\n",
    "    grads = grad_fn({\"params\": pars}, x, y)[\"params\"]\n",
    "    pars = jax.tree_multimap(lambda p, g: p - learning_rate * g, pars, grads)"
   ]
  },
  {
   "cell_type": "code",
   "execution_count": 90,
   "id": "5a6cfdaf-83b9-42c1-9aa0-c08e6ff7bfa2",
   "metadata": {
    "colab": {
     "base_uri": "https://localhost:8080/",
     "height": 282
    },
    "id": "5a6cfdaf-83b9-42c1-9aa0-c08e6ff7bfa2",
    "outputId": "aa0d6e72-149c-4199-fceb-24a968bae84c"
   },
   "outputs": [
    {
     "data": {
      "text/plain": [
       "[<matplotlib.lines.Line2D at 0x7f4833995d90>]"
      ]
     },
     "execution_count": 90,
     "metadata": {},
     "output_type": "execute_result"
    },
    {
     "data": {
      "image/png": "[encoded data removed]",
      "text/plain": [
       "<Figure size 432x288 with 1 Axes>"
      ]
     },
     "metadata": {
      "needs_background": "light"
     },
     "output_type": "display_data"
    }
   ],
   "source": [
    "plt.plot(loss_history)"
   ]
  },
  {
   "cell_type": "code",
   "execution_count": 91,
   "id": "f2c69a7d-1463-45c6-b5ca-9c83e9ebfd52",
   "metadata": {
    "colab": {
     "base_uri": "https://localhost:8080/"
    },
    "id": "f2c69a7d-1463-45c6-b5ca-9c83e9ebfd52",
    "outputId": "33ea0b27-6e3f-4960-b1de-7721ab9f1e54"
   },
   "outputs": [
    {
     "data": {
      "text/plain": [
       "DeviceArray([[-2.1655061 ],\n",
       "             [-1.6794558 ],\n",
       "             [-1.1934053 ],\n",
       "             [-0.7073546 ],\n",
       "             [-0.22130436],\n",
       "             [ 0.26474625],\n",
       "             [ 0.7507967 ],\n",
       "             [ 1.236847  ],\n",
       "             [ 1.7228975 ],\n",
       "             [ 2.208948  ]], dtype=float32)"
      ]
     },
     "execution_count": 91,
     "metadata": {},
     "output_type": "execute_result"
    }
   ],
   "source": [
    "model.apply({\"params\": pars}, _xpts)"
   ]
  },
  {
   "cell_type": "code",
   "execution_count": 92,
   "id": "02ee6b96-336a-47db-8e80-b03960f9e8e7",
   "metadata": {
    "colab": {
     "base_uri": "https://localhost:8080/",
     "height": 282
    },
    "id": "02ee6b96-336a-47db-8e80-b03960f9e8e7",
    "outputId": "6cb3507e-1210-4554-f411-523451b413e1"
   },
   "outputs": [
    {
     "data": {
      "text/plain": [
       "[<matplotlib.lines.Line2D at 0x7f48339ac050>]"
      ]
     },
     "execution_count": 92,
     "metadata": {},
     "output_type": "execute_result"
    },
    {
     "data": {
      "image/png": "[encoded data removed]",
      "text/plain": [
       "<Figure size 432x288 with 1 Axes>"
      ]
     },
     "metadata": {
      "needs_background": "light"
     },
     "output_type": "display_data"
    }
   ],
   "source": [
    "# generate all points in an interval\n",
    "_xpts = jnp.linspace(-2,2,10)\n",
    "plt.plot(x,y, '*')\n",
    "plt.plot(_xpts, model.apply({\"params\": pars}, _xpts))"
   ]
  },
  {
   "cell_type": "code",
   "execution_count": null,
   "id": "d05cc62a-6cc4-43f9-b9d5-b7dbb65a5c8f",
   "metadata": {
    "id": "d05cc62a-6cc4-43f9-b9d5-b7dbb65a5c8f"
   },
   "outputs": [],
   "source": []
  }
 ],
 "metadata": {
  "colab": {
   "collapsed_sections": [],
   "name": "1-start.ipynb",
   "provenance": []
  },
  "kernelspec": {
   "display_name": "Python 3 (ipykernel)",
   "language": "python",
   "name": "python3"
  },
  "language_info": {
   "codemirror_mode": {
    "name": "ipython",
    "version": 3
   },
   "file_extension": ".py",
   "mimetype": "text/x-python",
   "name": "python",
   "nbconvert_exporter": "python",
   "pygments_lexer": "ipython3",
   "version": "3.9.12"
  }
 },
 "nbformat": 4,
 "nbformat_minor": 5
}
